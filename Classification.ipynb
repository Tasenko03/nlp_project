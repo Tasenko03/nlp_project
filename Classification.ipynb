{
  "nbformat": 4,
  "nbformat_minor": 0,
  "metadata": {
    "colab": {
      "provenance": [],
      "include_colab_link": true
    },
    "kernelspec": {
      "name": "python3",
      "display_name": "Python 3"
    },
    "language_info": {
      "name": "python"
    }
  },
  "cells": [
    {
      "cell_type": "markdown",
      "metadata": {
        "id": "view-in-github",
        "colab_type": "text"
      },
      "source": [
        "<a href=\"https://colab.research.google.com/github/Tasenko03/nlp_project/blob/main/Classification.ipynb\" target=\"_parent\"><img src=\"https://colab.research.google.com/assets/colab-badge.svg\" alt=\"Open In Colab\"/></a>"
      ]
    },
    {
      "cell_type": "code",
      "source": [
        "!pip install joblib"
      ],
      "metadata": {
        "colab": {
          "base_uri": "https://localhost:8080/"
        },
        "id": "Iw1rs7n2JUnH",
        "outputId": "edd14a47-6fd1-4e88-a302-8fbd01776be6"
      },
      "execution_count": 1,
      "outputs": [
        {
          "output_type": "stream",
          "name": "stdout",
          "text": [
            "Requirement already satisfied: joblib in /usr/local/lib/python3.10/dist-packages (1.4.2)\n"
          ]
        }
      ]
    },
    {
      "cell_type": "code",
      "execution_count": 2,
      "metadata": {
        "id": "3aynavgOrV1E"
      },
      "outputs": [],
      "source": [
        "import pandas as pd\n",
        "import numpy as np\n",
        "import gdown\n",
        "import re\n",
        "\n",
        "from sklearn.model_selection import train_test_split\n",
        "from sklearn.feature_extraction.text import TfidfVectorizer\n",
        "from sklearn.decomposition import PCA\n",
        "from sklearn.svm import SVC\n",
        "\n",
        "import nltk\n",
        "from nltk.corpus import stopwords\n",
        "from nltk.tokenize import word_tokenize\n",
        "import string\n",
        "\n",
        "from gensim.models import Word2Vec, FastText\n",
        "\n",
        "import matplotlib.pyplot as plt\n",
        "import seaborn as sns\n",
        "\n",
        "import joblib"
      ]
    },
    {
      "cell_type": "markdown",
      "metadata": {
        "id": "X8bEwxz6W-Dj"
      },
      "source": [
        "#Reading data"
      ]
    },
    {
      "cell_type": "code",
      "execution_count": 3,
      "metadata": {
        "colab": {
          "base_uri": "https://localhost:8080/"
        },
        "id": "iWZ4Uo_zstLd",
        "outputId": "c2ae1551-6ae0-490b-9c71-d8b07157230d"
      },
      "outputs": [
        {
          "output_type": "execute_result",
          "data": {
            "text/plain": [
              "['/content/project data/ria_news.csv',\n",
              " '/content/project data/vk_comments.tsv',\n",
              " '/content/project data/vk_news.tsv']"
            ]
          },
          "metadata": {},
          "execution_count": 3
        }
      ],
      "source": [
        "url = \"https://drive.google.com/drive/folders/138Mv-hhvm2e0tTODEomQiUt8CVBOA1mX?usp=sharing\"\n",
        "gdown.download_folder(url, quiet=True, use_cookies=False)"
      ]
    },
    {
      "cell_type": "code",
      "execution_count": 4,
      "metadata": {
        "colab": {
          "base_uri": "https://localhost:8080/",
          "height": 293
        },
        "id": "coKlVTCxswIY",
        "outputId": "09180b3e-d95c-4f3d-cdb6-2b18fb5900d4"
      },
      "outputs": [
        {
          "output_type": "execute_result",
          "data": {
            "text/plain": [
              "                        href        date                    time  \\\n",
              "0  /20181231/1548961410.html  2018-12-31  31 декабря 2018, 23:52   \n",
              "1  /20181231/1548961364.html  2018-12-31  31 декабря 2018, 23:19   \n",
              "2  /20181231/1548961218.html  2018-12-31  31 декабря 2018, 23:06   \n",
              "3  /20181231/1548961104.html  2018-12-31  31 декабря 2018, 22:50   \n",
              "4  /20181231/1548961026.html  2018-12-31  31 декабря 2018, 22:33   \n",
              "\n",
              "                                               title  \\\n",
              "0  Нетаньяху не собирается в отставку в случае пр...   \n",
              "1  Макрон в новогоднем обращении затронул тему ре...   \n",
              "2  СМИ: Кевину Спейси не разрешили отсутствовать ...   \n",
              "3  В Таиланде россиянин получил тяжелую черепную ...   \n",
              "4  Медведев поздравил россиян с наступающим Новым...   \n",
              "\n",
              "                                             snippet  category  \\\n",
              "0  Премьер-министр Израиля Биньямин Нетаньяху не ...    В мире   \n",
              "1  Результат реформ не может быть мгновенным, зая...    В мире   \n",
              "2  Суд в американском штате Массачусетс отверг хо...    В мире   \n",
              "3  Россиянин Борис Победоносец 1989 года рождения...    В мире   \n",
              "4  Глава российского правительства Дмитрий Медвед...  Общество   \n",
              "\n",
              "                                                tags  \n",
              "0                Биньямин Нетаньяху, Израиль, В мире  \n",
              "1                  Эммануэль Макрон, Франция, В мире  \n",
              "2                          Кевин Спейси, США, В мире  \n",
              "3                                    Таиланд, В мире  \n",
              "4  Новый год—2019, Дмитрий Медведев, Россия, Обще...  "
            ],
            "text/html": [
              "\n",
              "  <div id=\"df-74cb52df-cb94-4a66-8ed1-e335aa69f2c0\" class=\"colab-df-container\">\n",
              "    <div>\n",
              "<style scoped>\n",
              "    .dataframe tbody tr th:only-of-type {\n",
              "        vertical-align: middle;\n",
              "    }\n",
              "\n",
              "    .dataframe tbody tr th {\n",
              "        vertical-align: top;\n",
              "    }\n",
              "\n",
              "    .dataframe thead th {\n",
              "        text-align: right;\n",
              "    }\n",
              "</style>\n",
              "<table border=\"1\" class=\"dataframe\">\n",
              "  <thead>\n",
              "    <tr style=\"text-align: right;\">\n",
              "      <th></th>\n",
              "      <th>href</th>\n",
              "      <th>date</th>\n",
              "      <th>time</th>\n",
              "      <th>title</th>\n",
              "      <th>snippet</th>\n",
              "      <th>category</th>\n",
              "      <th>tags</th>\n",
              "    </tr>\n",
              "  </thead>\n",
              "  <tbody>\n",
              "    <tr>\n",
              "      <th>0</th>\n",
              "      <td>/20181231/1548961410.html</td>\n",
              "      <td>2018-12-31</td>\n",
              "      <td>31 декабря 2018, 23:52</td>\n",
              "      <td>Нетаньяху не собирается в отставку в случае пр...</td>\n",
              "      <td>Премьер-министр Израиля Биньямин Нетаньяху не ...</td>\n",
              "      <td>В мире</td>\n",
              "      <td>Биньямин Нетаньяху, Израиль, В мире</td>\n",
              "    </tr>\n",
              "    <tr>\n",
              "      <th>1</th>\n",
              "      <td>/20181231/1548961364.html</td>\n",
              "      <td>2018-12-31</td>\n",
              "      <td>31 декабря 2018, 23:19</td>\n",
              "      <td>Макрон в новогоднем обращении затронул тему ре...</td>\n",
              "      <td>Результат реформ не может быть мгновенным, зая...</td>\n",
              "      <td>В мире</td>\n",
              "      <td>Эммануэль Макрон, Франция, В мире</td>\n",
              "    </tr>\n",
              "    <tr>\n",
              "      <th>2</th>\n",
              "      <td>/20181231/1548961218.html</td>\n",
              "      <td>2018-12-31</td>\n",
              "      <td>31 декабря 2018, 23:06</td>\n",
              "      <td>СМИ: Кевину Спейси не разрешили отсутствовать ...</td>\n",
              "      <td>Суд в американском штате Массачусетс отверг хо...</td>\n",
              "      <td>В мире</td>\n",
              "      <td>Кевин Спейси, США, В мире</td>\n",
              "    </tr>\n",
              "    <tr>\n",
              "      <th>3</th>\n",
              "      <td>/20181231/1548961104.html</td>\n",
              "      <td>2018-12-31</td>\n",
              "      <td>31 декабря 2018, 22:50</td>\n",
              "      <td>В Таиланде россиянин получил тяжелую черепную ...</td>\n",
              "      <td>Россиянин Борис Победоносец 1989 года рождения...</td>\n",
              "      <td>В мире</td>\n",
              "      <td>Таиланд, В мире</td>\n",
              "    </tr>\n",
              "    <tr>\n",
              "      <th>4</th>\n",
              "      <td>/20181231/1548961026.html</td>\n",
              "      <td>2018-12-31</td>\n",
              "      <td>31 декабря 2018, 22:33</td>\n",
              "      <td>Медведев поздравил россиян с наступающим Новым...</td>\n",
              "      <td>Глава российского правительства Дмитрий Медвед...</td>\n",
              "      <td>Общество</td>\n",
              "      <td>Новый год—2019, Дмитрий Медведев, Россия, Обще...</td>\n",
              "    </tr>\n",
              "  </tbody>\n",
              "</table>\n",
              "</div>\n",
              "    <div class=\"colab-df-buttons\">\n",
              "\n",
              "  <div class=\"colab-df-container\">\n",
              "    <button class=\"colab-df-convert\" onclick=\"convertToInteractive('df-74cb52df-cb94-4a66-8ed1-e335aa69f2c0')\"\n",
              "            title=\"Convert this dataframe to an interactive table.\"\n",
              "            style=\"display:none;\">\n",
              "\n",
              "  <svg xmlns=\"http://www.w3.org/2000/svg\" height=\"24px\" viewBox=\"0 -960 960 960\">\n",
              "    <path d=\"M120-120v-720h720v720H120Zm60-500h600v-160H180v160Zm220 220h160v-160H400v160Zm0 220h160v-160H400v160ZM180-400h160v-160H180v160Zm440 0h160v-160H620v160ZM180-180h160v-160H180v160Zm440 0h160v-160H620v160Z\"/>\n",
              "  </svg>\n",
              "    </button>\n",
              "\n",
              "  <style>\n",
              "    .colab-df-container {\n",
              "      display:flex;\n",
              "      gap: 12px;\n",
              "    }\n",
              "\n",
              "    .colab-df-convert {\n",
              "      background-color: #E8F0FE;\n",
              "      border: none;\n",
              "      border-radius: 50%;\n",
              "      cursor: pointer;\n",
              "      display: none;\n",
              "      fill: #1967D2;\n",
              "      height: 32px;\n",
              "      padding: 0 0 0 0;\n",
              "      width: 32px;\n",
              "    }\n",
              "\n",
              "    .colab-df-convert:hover {\n",
              "      background-color: #E2EBFA;\n",
              "      box-shadow: 0px 1px 2px rgba(60, 64, 67, 0.3), 0px 1px 3px 1px rgba(60, 64, 67, 0.15);\n",
              "      fill: #174EA6;\n",
              "    }\n",
              "\n",
              "    .colab-df-buttons div {\n",
              "      margin-bottom: 4px;\n",
              "    }\n",
              "\n",
              "    [theme=dark] .colab-df-convert {\n",
              "      background-color: #3B4455;\n",
              "      fill: #D2E3FC;\n",
              "    }\n",
              "\n",
              "    [theme=dark] .colab-df-convert:hover {\n",
              "      background-color: #434B5C;\n",
              "      box-shadow: 0px 1px 3px 1px rgba(0, 0, 0, 0.15);\n",
              "      filter: drop-shadow(0px 1px 2px rgba(0, 0, 0, 0.3));\n",
              "      fill: #FFFFFF;\n",
              "    }\n",
              "  </style>\n",
              "\n",
              "    <script>\n",
              "      const buttonEl =\n",
              "        document.querySelector('#df-74cb52df-cb94-4a66-8ed1-e335aa69f2c0 button.colab-df-convert');\n",
              "      buttonEl.style.display =\n",
              "        google.colab.kernel.accessAllowed ? 'block' : 'none';\n",
              "\n",
              "      async function convertToInteractive(key) {\n",
              "        const element = document.querySelector('#df-74cb52df-cb94-4a66-8ed1-e335aa69f2c0');\n",
              "        const dataTable =\n",
              "          await google.colab.kernel.invokeFunction('convertToInteractive',\n",
              "                                                    [key], {});\n",
              "        if (!dataTable) return;\n",
              "\n",
              "        const docLinkHtml = 'Like what you see? Visit the ' +\n",
              "          '<a target=\"_blank\" href=https://colab.research.google.com/notebooks/data_table.ipynb>data table notebook</a>'\n",
              "          + ' to learn more about interactive tables.';\n",
              "        element.innerHTML = '';\n",
              "        dataTable['output_type'] = 'display_data';\n",
              "        await google.colab.output.renderOutput(dataTable, element);\n",
              "        const docLink = document.createElement('div');\n",
              "        docLink.innerHTML = docLinkHtml;\n",
              "        element.appendChild(docLink);\n",
              "      }\n",
              "    </script>\n",
              "  </div>\n",
              "\n",
              "\n",
              "<div id=\"df-680f3d30-03d4-4f83-95e2-3421de1b0006\">\n",
              "  <button class=\"colab-df-quickchart\" onclick=\"quickchart('df-680f3d30-03d4-4f83-95e2-3421de1b0006')\"\n",
              "            title=\"Suggest charts\"\n",
              "            style=\"display:none;\">\n",
              "\n",
              "<svg xmlns=\"http://www.w3.org/2000/svg\" height=\"24px\"viewBox=\"0 0 24 24\"\n",
              "     width=\"24px\">\n",
              "    <g>\n",
              "        <path d=\"M19 3H5c-1.1 0-2 .9-2 2v14c0 1.1.9 2 2 2h14c1.1 0 2-.9 2-2V5c0-1.1-.9-2-2-2zM9 17H7v-7h2v7zm4 0h-2V7h2v10zm4 0h-2v-4h2v4z\"/>\n",
              "    </g>\n",
              "</svg>\n",
              "  </button>\n",
              "\n",
              "<style>\n",
              "  .colab-df-quickchart {\n",
              "      --bg-color: #E8F0FE;\n",
              "      --fill-color: #1967D2;\n",
              "      --hover-bg-color: #E2EBFA;\n",
              "      --hover-fill-color: #174EA6;\n",
              "      --disabled-fill-color: #AAA;\n",
              "      --disabled-bg-color: #DDD;\n",
              "  }\n",
              "\n",
              "  [theme=dark] .colab-df-quickchart {\n",
              "      --bg-color: #3B4455;\n",
              "      --fill-color: #D2E3FC;\n",
              "      --hover-bg-color: #434B5C;\n",
              "      --hover-fill-color: #FFFFFF;\n",
              "      --disabled-bg-color: #3B4455;\n",
              "      --disabled-fill-color: #666;\n",
              "  }\n",
              "\n",
              "  .colab-df-quickchart {\n",
              "    background-color: var(--bg-color);\n",
              "    border: none;\n",
              "    border-radius: 50%;\n",
              "    cursor: pointer;\n",
              "    display: none;\n",
              "    fill: var(--fill-color);\n",
              "    height: 32px;\n",
              "    padding: 0;\n",
              "    width: 32px;\n",
              "  }\n",
              "\n",
              "  .colab-df-quickchart:hover {\n",
              "    background-color: var(--hover-bg-color);\n",
              "    box-shadow: 0 1px 2px rgba(60, 64, 67, 0.3), 0 1px 3px 1px rgba(60, 64, 67, 0.15);\n",
              "    fill: var(--button-hover-fill-color);\n",
              "  }\n",
              "\n",
              "  .colab-df-quickchart-complete:disabled,\n",
              "  .colab-df-quickchart-complete:disabled:hover {\n",
              "    background-color: var(--disabled-bg-color);\n",
              "    fill: var(--disabled-fill-color);\n",
              "    box-shadow: none;\n",
              "  }\n",
              "\n",
              "  .colab-df-spinner {\n",
              "    border: 2px solid var(--fill-color);\n",
              "    border-color: transparent;\n",
              "    border-bottom-color: var(--fill-color);\n",
              "    animation:\n",
              "      spin 1s steps(1) infinite;\n",
              "  }\n",
              "\n",
              "  @keyframes spin {\n",
              "    0% {\n",
              "      border-color: transparent;\n",
              "      border-bottom-color: var(--fill-color);\n",
              "      border-left-color: var(--fill-color);\n",
              "    }\n",
              "    20% {\n",
              "      border-color: transparent;\n",
              "      border-left-color: var(--fill-color);\n",
              "      border-top-color: var(--fill-color);\n",
              "    }\n",
              "    30% {\n",
              "      border-color: transparent;\n",
              "      border-left-color: var(--fill-color);\n",
              "      border-top-color: var(--fill-color);\n",
              "      border-right-color: var(--fill-color);\n",
              "    }\n",
              "    40% {\n",
              "      border-color: transparent;\n",
              "      border-right-color: var(--fill-color);\n",
              "      border-top-color: var(--fill-color);\n",
              "    }\n",
              "    60% {\n",
              "      border-color: transparent;\n",
              "      border-right-color: var(--fill-color);\n",
              "    }\n",
              "    80% {\n",
              "      border-color: transparent;\n",
              "      border-right-color: var(--fill-color);\n",
              "      border-bottom-color: var(--fill-color);\n",
              "    }\n",
              "    90% {\n",
              "      border-color: transparent;\n",
              "      border-bottom-color: var(--fill-color);\n",
              "    }\n",
              "  }\n",
              "</style>\n",
              "\n",
              "  <script>\n",
              "    async function quickchart(key) {\n",
              "      const quickchartButtonEl =\n",
              "        document.querySelector('#' + key + ' button');\n",
              "      quickchartButtonEl.disabled = true;  // To prevent multiple clicks.\n",
              "      quickchartButtonEl.classList.add('colab-df-spinner');\n",
              "      try {\n",
              "        const charts = await google.colab.kernel.invokeFunction(\n",
              "            'suggestCharts', [key], {});\n",
              "      } catch (error) {\n",
              "        console.error('Error during call to suggestCharts:', error);\n",
              "      }\n",
              "      quickchartButtonEl.classList.remove('colab-df-spinner');\n",
              "      quickchartButtonEl.classList.add('colab-df-quickchart-complete');\n",
              "    }\n",
              "    (() => {\n",
              "      let quickchartButtonEl =\n",
              "        document.querySelector('#df-680f3d30-03d4-4f83-95e2-3421de1b0006 button');\n",
              "      quickchartButtonEl.style.display =\n",
              "        google.colab.kernel.accessAllowed ? 'block' : 'none';\n",
              "    })();\n",
              "  </script>\n",
              "</div>\n",
              "    </div>\n",
              "  </div>\n"
            ],
            "application/vnd.google.colaboratory.intrinsic+json": {
              "type": "dataframe",
              "variable_name": "ria_news"
            }
          },
          "metadata": {},
          "execution_count": 4
        }
      ],
      "source": [
        "ria_news = pd.read_csv('/content/project data/ria_news.csv', sep=';')\n",
        "ria_news.head()"
      ]
    },
    {
      "cell_type": "code",
      "execution_count": null,
      "metadata": {
        "colab": {
          "base_uri": "https://localhost:8080/"
        },
        "id": "3mIAzNxetrLS",
        "outputId": "9f9d8899-ed8b-4245-ce39-ae39db5efa12"
      },
      "outputs": [
        {
          "output_type": "stream",
          "name": "stdout",
          "text": [
            "(153517, 7)\n"
          ]
        }
      ],
      "source": [
        "print(ria_news.shape)"
      ]
    },
    {
      "cell_type": "code",
      "source": [
        "df_vk = pd.read_csv('/content/project data/vk_news.tsv', sep='\\t')\n",
        "print(df_vk.shape)\n",
        "df_vk.head(3)"
      ],
      "metadata": {
        "id": "ybJceVAn2doJ",
        "outputId": "861341dc-450e-439e-b4a2-624f8cc6e4bf",
        "colab": {
          "base_uri": "https://localhost:8080/",
          "height": 162
        }
      },
      "execution_count": 9,
      "outputs": [
        {
          "output_type": "stream",
          "name": "stdout",
          "text": [
            "(19928, 7)\n"
          ]
        },
        {
          "output_type": "execute_result",
          "data": {
            "text/plain": [
              "         id                       href             datetime  \\\n",
              "0  24006362  /20190201/1550280358.html  2019-02-01 23:13:17   \n",
              "1  24006240  /20190201/1550268781.html  2019-02-01 22:38:41   \n",
              "2  24006100  /20190201/1550282212.html  2019-02-01 21:58:52   \n",
              "\n",
              "                                               title text  likes  comments  \n",
              "0  В ДНР заявили о задержании диверсантов, причас...  NaN     15        28  \n",
              "1  Житель Урала \"заминировал\" ТЦ из-за снятия  со...  NaN     32        42  \n",
              "2      В Черном море нашли \"потерянный флот Гитлера\"  NaN     84        23  "
            ],
            "text/html": [
              "\n",
              "  <div id=\"df-4bbfa209-0408-47a0-8f63-7bcd98a06994\" class=\"colab-df-container\">\n",
              "    <div>\n",
              "<style scoped>\n",
              "    .dataframe tbody tr th:only-of-type {\n",
              "        vertical-align: middle;\n",
              "    }\n",
              "\n",
              "    .dataframe tbody tr th {\n",
              "        vertical-align: top;\n",
              "    }\n",
              "\n",
              "    .dataframe thead th {\n",
              "        text-align: right;\n",
              "    }\n",
              "</style>\n",
              "<table border=\"1\" class=\"dataframe\">\n",
              "  <thead>\n",
              "    <tr style=\"text-align: right;\">\n",
              "      <th></th>\n",
              "      <th>id</th>\n",
              "      <th>href</th>\n",
              "      <th>datetime</th>\n",
              "      <th>title</th>\n",
              "      <th>text</th>\n",
              "      <th>likes</th>\n",
              "      <th>comments</th>\n",
              "    </tr>\n",
              "  </thead>\n",
              "  <tbody>\n",
              "    <tr>\n",
              "      <th>0</th>\n",
              "      <td>24006362</td>\n",
              "      <td>/20190201/1550280358.html</td>\n",
              "      <td>2019-02-01 23:13:17</td>\n",
              "      <td>В ДНР заявили о задержании диверсантов, причас...</td>\n",
              "      <td>NaN</td>\n",
              "      <td>15</td>\n",
              "      <td>28</td>\n",
              "    </tr>\n",
              "    <tr>\n",
              "      <th>1</th>\n",
              "      <td>24006240</td>\n",
              "      <td>/20190201/1550268781.html</td>\n",
              "      <td>2019-02-01 22:38:41</td>\n",
              "      <td>Житель Урала \"заминировал\" ТЦ из-за снятия  со...</td>\n",
              "      <td>NaN</td>\n",
              "      <td>32</td>\n",
              "      <td>42</td>\n",
              "    </tr>\n",
              "    <tr>\n",
              "      <th>2</th>\n",
              "      <td>24006100</td>\n",
              "      <td>/20190201/1550282212.html</td>\n",
              "      <td>2019-02-01 21:58:52</td>\n",
              "      <td>В Черном море нашли \"потерянный флот Гитлера\"</td>\n",
              "      <td>NaN</td>\n",
              "      <td>84</td>\n",
              "      <td>23</td>\n",
              "    </tr>\n",
              "  </tbody>\n",
              "</table>\n",
              "</div>\n",
              "    <div class=\"colab-df-buttons\">\n",
              "\n",
              "  <div class=\"colab-df-container\">\n",
              "    <button class=\"colab-df-convert\" onclick=\"convertToInteractive('df-4bbfa209-0408-47a0-8f63-7bcd98a06994')\"\n",
              "            title=\"Convert this dataframe to an interactive table.\"\n",
              "            style=\"display:none;\">\n",
              "\n",
              "  <svg xmlns=\"http://www.w3.org/2000/svg\" height=\"24px\" viewBox=\"0 -960 960 960\">\n",
              "    <path d=\"M120-120v-720h720v720H120Zm60-500h600v-160H180v160Zm220 220h160v-160H400v160Zm0 220h160v-160H400v160ZM180-400h160v-160H180v160Zm440 0h160v-160H620v160ZM180-180h160v-160H180v160Zm440 0h160v-160H620v160Z\"/>\n",
              "  </svg>\n",
              "    </button>\n",
              "\n",
              "  <style>\n",
              "    .colab-df-container {\n",
              "      display:flex;\n",
              "      gap: 12px;\n",
              "    }\n",
              "\n",
              "    .colab-df-convert {\n",
              "      background-color: #E8F0FE;\n",
              "      border: none;\n",
              "      border-radius: 50%;\n",
              "      cursor: pointer;\n",
              "      display: none;\n",
              "      fill: #1967D2;\n",
              "      height: 32px;\n",
              "      padding: 0 0 0 0;\n",
              "      width: 32px;\n",
              "    }\n",
              "\n",
              "    .colab-df-convert:hover {\n",
              "      background-color: #E2EBFA;\n",
              "      box-shadow: 0px 1px 2px rgba(60, 64, 67, 0.3), 0px 1px 3px 1px rgba(60, 64, 67, 0.15);\n",
              "      fill: #174EA6;\n",
              "    }\n",
              "\n",
              "    .colab-df-buttons div {\n",
              "      margin-bottom: 4px;\n",
              "    }\n",
              "\n",
              "    [theme=dark] .colab-df-convert {\n",
              "      background-color: #3B4455;\n",
              "      fill: #D2E3FC;\n",
              "    }\n",
              "\n",
              "    [theme=dark] .colab-df-convert:hover {\n",
              "      background-color: #434B5C;\n",
              "      box-shadow: 0px 1px 3px 1px rgba(0, 0, 0, 0.15);\n",
              "      filter: drop-shadow(0px 1px 2px rgba(0, 0, 0, 0.3));\n",
              "      fill: #FFFFFF;\n",
              "    }\n",
              "  </style>\n",
              "\n",
              "    <script>\n",
              "      const buttonEl =\n",
              "        document.querySelector('#df-4bbfa209-0408-47a0-8f63-7bcd98a06994 button.colab-df-convert');\n",
              "      buttonEl.style.display =\n",
              "        google.colab.kernel.accessAllowed ? 'block' : 'none';\n",
              "\n",
              "      async function convertToInteractive(key) {\n",
              "        const element = document.querySelector('#df-4bbfa209-0408-47a0-8f63-7bcd98a06994');\n",
              "        const dataTable =\n",
              "          await google.colab.kernel.invokeFunction('convertToInteractive',\n",
              "                                                    [key], {});\n",
              "        if (!dataTable) return;\n",
              "\n",
              "        const docLinkHtml = 'Like what you see? Visit the ' +\n",
              "          '<a target=\"_blank\" href=https://colab.research.google.com/notebooks/data_table.ipynb>data table notebook</a>'\n",
              "          + ' to learn more about interactive tables.';\n",
              "        element.innerHTML = '';\n",
              "        dataTable['output_type'] = 'display_data';\n",
              "        await google.colab.output.renderOutput(dataTable, element);\n",
              "        const docLink = document.createElement('div');\n",
              "        docLink.innerHTML = docLinkHtml;\n",
              "        element.appendChild(docLink);\n",
              "      }\n",
              "    </script>\n",
              "  </div>\n",
              "\n",
              "\n",
              "<div id=\"df-3200d002-4e58-4023-852e-743433f01280\">\n",
              "  <button class=\"colab-df-quickchart\" onclick=\"quickchart('df-3200d002-4e58-4023-852e-743433f01280')\"\n",
              "            title=\"Suggest charts\"\n",
              "            style=\"display:none;\">\n",
              "\n",
              "<svg xmlns=\"http://www.w3.org/2000/svg\" height=\"24px\"viewBox=\"0 0 24 24\"\n",
              "     width=\"24px\">\n",
              "    <g>\n",
              "        <path d=\"M19 3H5c-1.1 0-2 .9-2 2v14c0 1.1.9 2 2 2h14c1.1 0 2-.9 2-2V5c0-1.1-.9-2-2-2zM9 17H7v-7h2v7zm4 0h-2V7h2v10zm4 0h-2v-4h2v4z\"/>\n",
              "    </g>\n",
              "</svg>\n",
              "  </button>\n",
              "\n",
              "<style>\n",
              "  .colab-df-quickchart {\n",
              "      --bg-color: #E8F0FE;\n",
              "      --fill-color: #1967D2;\n",
              "      --hover-bg-color: #E2EBFA;\n",
              "      --hover-fill-color: #174EA6;\n",
              "      --disabled-fill-color: #AAA;\n",
              "      --disabled-bg-color: #DDD;\n",
              "  }\n",
              "\n",
              "  [theme=dark] .colab-df-quickchart {\n",
              "      --bg-color: #3B4455;\n",
              "      --fill-color: #D2E3FC;\n",
              "      --hover-bg-color: #434B5C;\n",
              "      --hover-fill-color: #FFFFFF;\n",
              "      --disabled-bg-color: #3B4455;\n",
              "      --disabled-fill-color: #666;\n",
              "  }\n",
              "\n",
              "  .colab-df-quickchart {\n",
              "    background-color: var(--bg-color);\n",
              "    border: none;\n",
              "    border-radius: 50%;\n",
              "    cursor: pointer;\n",
              "    display: none;\n",
              "    fill: var(--fill-color);\n",
              "    height: 32px;\n",
              "    padding: 0;\n",
              "    width: 32px;\n",
              "  }\n",
              "\n",
              "  .colab-df-quickchart:hover {\n",
              "    background-color: var(--hover-bg-color);\n",
              "    box-shadow: 0 1px 2px rgba(60, 64, 67, 0.3), 0 1px 3px 1px rgba(60, 64, 67, 0.15);\n",
              "    fill: var(--button-hover-fill-color);\n",
              "  }\n",
              "\n",
              "  .colab-df-quickchart-complete:disabled,\n",
              "  .colab-df-quickchart-complete:disabled:hover {\n",
              "    background-color: var(--disabled-bg-color);\n",
              "    fill: var(--disabled-fill-color);\n",
              "    box-shadow: none;\n",
              "  }\n",
              "\n",
              "  .colab-df-spinner {\n",
              "    border: 2px solid var(--fill-color);\n",
              "    border-color: transparent;\n",
              "    border-bottom-color: var(--fill-color);\n",
              "    animation:\n",
              "      spin 1s steps(1) infinite;\n",
              "  }\n",
              "\n",
              "  @keyframes spin {\n",
              "    0% {\n",
              "      border-color: transparent;\n",
              "      border-bottom-color: var(--fill-color);\n",
              "      border-left-color: var(--fill-color);\n",
              "    }\n",
              "    20% {\n",
              "      border-color: transparent;\n",
              "      border-left-color: var(--fill-color);\n",
              "      border-top-color: var(--fill-color);\n",
              "    }\n",
              "    30% {\n",
              "      border-color: transparent;\n",
              "      border-left-color: var(--fill-color);\n",
              "      border-top-color: var(--fill-color);\n",
              "      border-right-color: var(--fill-color);\n",
              "    }\n",
              "    40% {\n",
              "      border-color: transparent;\n",
              "      border-right-color: var(--fill-color);\n",
              "      border-top-color: var(--fill-color);\n",
              "    }\n",
              "    60% {\n",
              "      border-color: transparent;\n",
              "      border-right-color: var(--fill-color);\n",
              "    }\n",
              "    80% {\n",
              "      border-color: transparent;\n",
              "      border-right-color: var(--fill-color);\n",
              "      border-bottom-color: var(--fill-color);\n",
              "    }\n",
              "    90% {\n",
              "      border-color: transparent;\n",
              "      border-bottom-color: var(--fill-color);\n",
              "    }\n",
              "  }\n",
              "</style>\n",
              "\n",
              "  <script>\n",
              "    async function quickchart(key) {\n",
              "      const quickchartButtonEl =\n",
              "        document.querySelector('#' + key + ' button');\n",
              "      quickchartButtonEl.disabled = true;  // To prevent multiple clicks.\n",
              "      quickchartButtonEl.classList.add('colab-df-spinner');\n",
              "      try {\n",
              "        const charts = await google.colab.kernel.invokeFunction(\n",
              "            'suggestCharts', [key], {});\n",
              "      } catch (error) {\n",
              "        console.error('Error during call to suggestCharts:', error);\n",
              "      }\n",
              "      quickchartButtonEl.classList.remove('colab-df-spinner');\n",
              "      quickchartButtonEl.classList.add('colab-df-quickchart-complete');\n",
              "    }\n",
              "    (() => {\n",
              "      let quickchartButtonEl =\n",
              "        document.querySelector('#df-3200d002-4e58-4023-852e-743433f01280 button');\n",
              "      quickchartButtonEl.style.display =\n",
              "        google.colab.kernel.accessAllowed ? 'block' : 'none';\n",
              "    })();\n",
              "  </script>\n",
              "</div>\n",
              "    </div>\n",
              "  </div>\n"
            ],
            "application/vnd.google.colaboratory.intrinsic+json": {
              "type": "dataframe",
              "variable_name": "df_vk",
              "summary": "{\n  \"name\": \"df_vk\",\n  \"rows\": 19928,\n  \"fields\": [\n    {\n      \"column\": \"id\",\n      \"properties\": {\n        \"dtype\": \"number\",\n        \"std\": 1757870,\n        \"min\": 17976037,\n        \"max\": 24006362,\n        \"num_unique_values\": 19928,\n        \"samples\": [\n          18636858,\n          20269667,\n          21974969\n        ],\n        \"semantic_type\": \"\",\n        \"description\": \"\"\n      }\n    },\n    {\n      \"column\": \"href\",\n      \"properties\": {\n        \"dtype\": \"string\",\n        \"num_unique_values\": 19843,\n        \"samples\": [\n          \"/society/20180406/1517901142.html?referrer_block=index_daynews1_3\",\n          \"/world/20171012/1506674783.html\",\n          \"/20181218/1548158872.html\"\n        ],\n        \"semantic_type\": \"\",\n        \"description\": \"\"\n      }\n    },\n    {\n      \"column\": \"datetime\",\n      \"properties\": {\n        \"dtype\": \"object\",\n        \"num_unique_values\": 19928,\n        \"samples\": [\n          \"2017-11-23 18:27:15\",\n          \"2018-03-31 05:54:53\",\n          \"2018-08-15 11:46:35\"\n        ],\n        \"semantic_type\": \"\",\n        \"description\": \"\"\n      }\n    },\n    {\n      \"column\": \"title\",\n      \"properties\": {\n        \"dtype\": \"string\",\n        \"num_unique_values\": 19729,\n        \"samples\": [\n          \"\\u0424\\u0435\\u0434\\u0435\\u0440\\u0430\\u0446\\u0438\\u044f \\u0444\\u0443\\u0442\\u0431\\u043e\\u043b\\u0430 \\u0423\\u043a\\u0440\\u0430\\u0438\\u043d\\u044b \\u043a\\u043e\\u043c\\u043f\\u0435\\u043d\\u0441\\u0438\\u0440\\u0443\\u0435\\u0442 \\u0412\\u0443\\u043a\\u043e\\u0435\\u0432\\u0438\\u0447\\u0443 \\u0448\\u0442\\u0440\\u0430\\u0444 \\u0424\\u0418\\u0424\\u0410\",\n          \"\\\"\\u041e\\u0431\\u0449\\u0438\\u0435 \\u043a\\u043e\\u0440\\u043d\\u0438\\\": \\u043d\\u0430 \\u0423\\u043a\\u0440\\u0430\\u0438\\u043d\\u0435 \\u0432\\u043e\\u0437\\u043c\\u0443\\u0442\\u0438\\u043b\\u0438\\u0441\\u044c \\u0438\\u0437-\\u0437\\u0430 \\u0443\\u0447\\u0435\\u0431\\u043d\\u0438\\u043a\\u0430 \\u0440\\u0443\\u0441\\u0441\\u043a\\u043e\\u0433\\u043e \\u044f\\u0437\\u044b\\u043a\\u0430\",\n          \"\\u041e\\u0445\\u0440\\u0430\\u043d\\u043d\\u0438\\u043a\\u043e\\u0432, \\u043d\\u0435 \\u043e\\u0441\\u0442\\u0430\\u043d\\u043e\\u0432\\u0438\\u0432\\u0448\\u0438\\u0445 \\u0434\\u0440\\u0430\\u043a\\u0443, \\u0432 \\u043a\\u043e\\u0442\\u043e\\u0440\\u043e\\u0439 \\u043f\\u043e\\u0433\\u0438\\u0431 \\u043f\\u0430\\u0443\\u044d\\u0440\\u043b\\u0438\\u0444\\u0442\\u0435\\u0440 \\u0414\\u0440\\u0430\\u0447\\u0435\\u0432, \\u043e\\u0442\\u0434\\u0430\\u043b\\u0438 \\u043f\\u043e\\u0434 \\u0441\\u0443\\u0434\"\n        ],\n        \"semantic_type\": \"\",\n        \"description\": \"\"\n      }\n    },\n    {\n      \"column\": \"text\",\n      \"properties\": {\n        \"dtype\": \"category\",\n        \"num_unique_values\": 6161,\n        \"samples\": [\n          \"\\u0412 \\u0441\\u0435\\u0440\\u0435\\u0434\\u0438\\u043d\\u0435 \\u043e\\u043a\\u0442\\u044f\\u0431\\u0440\\u044f \\u0432 \\u0430\\u043a\\u043a\\u0430\\u0443\\u043d\\u0442\\u0430\\u0445 \\\"\\u0418\\u041a\\u0415\\u0410 \\u0420\\u043e\\u0441\\u0441\\u0438\\u044f\\\" \\u0432 \\u0441\\u043e\\u0446\\u0438\\u0430\\u043b\\u044c\\u043d\\u044b\\u0445 \\u0441\\u0435\\u0442\\u044f\\u0445 \\u043f\\u043e\\u044f\\u0432\\u0438\\u043b\\u0430\\u0441\\u044c \\u0437\\u0430\\u043f\\u0438\\u0441\\u044c, \\u0432 \\u043a\\u043e\\u0442\\u043e\\u0440\\u043e\\u0439 \\u043a\\u043e\\u043c\\u043f\\u0430\\u043d\\u0438\\u044f \\u0434\\u0430\\u0432\\u0430\\u043b\\u0430 \\\"\\u0441\\u043e\\u0432\\u0435\\u0442\\u044b\\\" \\u0436\\u0435\\u043d\\u0441\\u043a\\u043e\\u0439 \\u0430\\u0443\\u0434\\u0438\\u0442\\u043e\\u0440\\u0438\\u0438. \\\"\\u0418\\u041a\\u0415\\u0410\\\" \\u043f\\u0440\\u0435\\u0434\\u043b\\u043e\\u0436\\u0438\\u043b\\u0430 \\u0434\\u0435\\u0432\\u0443\\u0448\\u043a\\u0430\\u043c \\u043f\\u043b\\u0430\\u043d \\u0434\\u0435\\u0439\\u0441\\u0442\\u0432\\u0438\\u0439 \\u043d\\u0430 \\u0441\\u043b\\u0443\\u0447\\u0430\\u0439, \\u0435\\u0441\\u043b\\u0438 \\u043a\\u0442\\u043e-\\u043b\\u0438\\u0431\\u043e \\u0438\\u0437 \\u043d\\u0438\\u0445 \\\"\\u0441\\u043b\\u0443\\u0447\\u0430\\u0439\\u043d\\u043e \\u043f\\u043e\\u0446\\u0430\\u0440\\u0430\\u043f\\u0430\\u043b \\u0435\\u0433\\u043e \\u043c\\u0430\\u0448\\u0438\\u043d\\u0443 \\u0438\\u043b\\u0438 \\u043f\\u043e\\u0433\\u0440\\u044b\\u0437 \\u0442\\u0430\\u043f\\u043e\\u0447\\u043a\\u0438\\\".\",\n          \"\\u0412\\u043e\\u0441\\u0435\\u043c\\u044c \\u0433\\u043e\\u0440\\u043d\\u044f\\u043a\\u043e\\u0432 \\u0443\\u0436\\u0435 \\u0432\\u044b\\u0432\\u0435\\u043b\\u0438 \\u043d\\u0430 \\u043f\\u043e\\u0432\\u0435\\u0440\\u0445\\u043d\\u043e\\u0441\\u0442\\u044c \\u0438\\u0437 \\u0448\\u0430\\u0445\\u0442\\u044b, \\u0432 \\u0437\\u043e\\u043d\\u0435 \\u0437\\u0430\\u0434\\u044b\\u043c\\u043b\\u0435\\u043d\\u0438\\u044f \\u043e\\u0441\\u0442\\u0430\\u043b\\u0438\\u0441\\u044c \\u0434\\u0435\\u0432\\u044f\\u0442\\u044c \\u0447\\u0435\\u043b\\u043e\\u0432\\u0435\\u043a.\",\n          \"\\u0412 \\u0447\\u0435\\u0441\\u0442\\u044c \\u0432\\u044b\\u0445\\u043e\\u0434\\u0430 \\u043d\\u043e\\u0432\\u043e\\u0433\\u043e \\u0430\\u043b\\u044c\\u0431\\u043e\\u043c\\u0430 \\u0433\\u0440\\u0443\\u043f\\u043f\\u044b \\u0432 VK \\u043f\\u043e\\u044f\\u0432\\u0438\\u043b\\u0441\\u044f \\u043d\\u0430\\u0431\\u043e\\u0440 \\u0441\\u0442\\u0438\\u043a\\u0435\\u0440\\u043e\\u0432. \\u041a\\u0440\\u043e\\u043c\\u0435 \\u0442\\u043e\\u0433\\u043e, \\u0443 \\u0441\\u0430\\u043c\\u044b\\u0445 \\u0430\\u043a\\u0442\\u0438\\u0432\\u043d\\u044b\\u0445 \\u0444\\u0430\\u043d\\u0430\\u0442\\u043e\\u0432 \\u043f\\u043e\\u044f\\u0432\\u0438\\u0442\\u0441\\u044f \\u0432\\u043e\\u0437\\u043c\\u043e\\u0436\\u043d\\u043e\\u0441\\u0442\\u044c \\u043f\\u043e\\u043b\\u0443\\u0447\\u0438\\u0442\\u044c \\u043f\\u0440\\u0438\\u0437\\u044b \\u0441 \\u0441\\u0438\\u043c\\u0432\\u043e\\u043b\\u0438\\u043a\\u043e\\u0439 Thirty Seconds To Mars, \\u0430 \\u043d\\u0435\\u0441\\u043a\\u043e\\u043b\\u044c\\u043a\\u043e \\u0441\\u0447\\u0430\\u0441\\u0442\\u043b\\u0438\\u0432\\u0447\\u0438\\u043a\\u043e\\u0432 \\u0441\\u043c\\u043e\\u0433\\u0443\\u0442 \\u0432\\u044b\\u0438\\u0433\\u0440\\u0430\\u0442\\u044c \\u0431\\u0438\\u043b\\u0435\\u0442\\u044b \\u043d\\u0430 \\u043a\\u043e\\u043d\\u0446\\u0435\\u0440\\u0442 \\u0438 \\u043b\\u0438\\u0447\\u043d\\u043e \\u0432\\u0441\\u0442\\u0440\\u0435\\u0442\\u0438\\u0442\\u044c\\u0441\\u044f \\u0441 \\u0433\\u0440\\u0443\\u043f\\u043f\\u043e\\u0439 \\u0432 \\u041c\\u043e\\u0441\\u043a\\u0432\\u0435 28 \\u0430\\u043f\\u0440\\u0435\\u043b\\u044f.\"\n        ],\n        \"semantic_type\": \"\",\n        \"description\": \"\"\n      }\n    },\n    {\n      \"column\": \"likes\",\n      \"properties\": {\n        \"dtype\": \"number\",\n        \"std\": 305,\n        \"min\": 14,\n        \"max\": 15959,\n        \"num_unique_values\": 1340,\n        \"samples\": [\n          1156,\n          818,\n          333\n        ],\n        \"semantic_type\": \"\",\n        \"description\": \"\"\n      }\n    },\n    {\n      \"column\": \"comments\",\n      \"properties\": {\n        \"dtype\": \"number\",\n        \"std\": 119,\n        \"min\": 0,\n        \"max\": 1761,\n        \"num_unique_values\": 732,\n        \"samples\": [\n          435,\n          264,\n          557\n        ],\n        \"semantic_type\": \"\",\n        \"description\": \"\"\n      }\n    }\n  ]\n}"
            }
          },
          "metadata": {},
          "execution_count": 9
        }
      ]
    },
    {
      "cell_type": "markdown",
      "metadata": {
        "id": "lYfUP4pRVNQ8"
      },
      "source": [
        "#EDA"
      ]
    },
    {
      "cell_type": "code",
      "source": [
        "ria_news.info()"
      ],
      "metadata": {
        "colab": {
          "base_uri": "https://localhost:8080/"
        },
        "id": "8Ll7oCo6HmkO",
        "outputId": "19b0392e-7890-422a-e606-3fe7e11d81e3"
      },
      "execution_count": null,
      "outputs": [
        {
          "output_type": "stream",
          "name": "stdout",
          "text": [
            "<class 'pandas.core.frame.DataFrame'>\n",
            "RangeIndex: 153517 entries, 0 to 153516\n",
            "Data columns (total 7 columns):\n",
            " #   Column    Non-Null Count   Dtype \n",
            "---  ------    --------------   ----- \n",
            " 0   href      153517 non-null  object\n",
            " 1   date      153517 non-null  object\n",
            " 2   time      153517 non-null  object\n",
            " 3   title     153517 non-null  object\n",
            " 4   snippet   153517 non-null  object\n",
            " 5   category  153517 non-null  object\n",
            " 6   tags      153517 non-null  object\n",
            "dtypes: object(7)\n",
            "memory usage: 8.2+ MB\n"
          ]
        }
      ]
    },
    {
      "cell_type": "code",
      "source": [
        "ria_news.isna().sum()"
      ],
      "metadata": {
        "colab": {
          "base_uri": "https://localhost:8080/"
        },
        "id": "EoiHSK5WHmf6",
        "outputId": "6db7bc31-bbe9-4309-eb88-1625a7a91d32"
      },
      "execution_count": null,
      "outputs": [
        {
          "output_type": "execute_result",
          "data": {
            "text/plain": [
              "href        0\n",
              "date        0\n",
              "time        0\n",
              "title       0\n",
              "snippet     0\n",
              "category    0\n",
              "tags        0\n",
              "dtype: int64"
            ]
          },
          "metadata": {},
          "execution_count": 7
        }
      ]
    },
    {
      "cell_type": "markdown",
      "source": [
        "В датасете нет пропущенных значений"
      ],
      "metadata": {
        "id": "BrrDMJdAH_b0"
      }
    },
    {
      "cell_type": "code",
      "source": [
        "duplicateRows = ria_news[ria_news.duplicated()]\n",
        "duplicateRows"
      ],
      "metadata": {
        "colab": {
          "base_uri": "https://localhost:8080/",
          "height": 53
        },
        "id": "1tf3stalHmb8",
        "outputId": "28af5576-3f7b-4c4b-df0b-1fc3f4781f83"
      },
      "execution_count": null,
      "outputs": [
        {
          "output_type": "execute_result",
          "data": {
            "text/plain": [
              "Empty DataFrame\n",
              "Columns: [href, date, time, title, snippet, category, tags]\n",
              "Index: []"
            ],
            "text/html": [
              "\n",
              "  <div id=\"df-575723dc-b698-42cb-b30c-29005a9ed4b1\" class=\"colab-df-container\">\n",
              "    <div>\n",
              "<style scoped>\n",
              "    .dataframe tbody tr th:only-of-type {\n",
              "        vertical-align: middle;\n",
              "    }\n",
              "\n",
              "    .dataframe tbody tr th {\n",
              "        vertical-align: top;\n",
              "    }\n",
              "\n",
              "    .dataframe thead th {\n",
              "        text-align: right;\n",
              "    }\n",
              "</style>\n",
              "<table border=\"1\" class=\"dataframe\">\n",
              "  <thead>\n",
              "    <tr style=\"text-align: right;\">\n",
              "      <th></th>\n",
              "      <th>href</th>\n",
              "      <th>date</th>\n",
              "      <th>time</th>\n",
              "      <th>title</th>\n",
              "      <th>snippet</th>\n",
              "      <th>category</th>\n",
              "      <th>tags</th>\n",
              "    </tr>\n",
              "  </thead>\n",
              "  <tbody>\n",
              "  </tbody>\n",
              "</table>\n",
              "</div>\n",
              "    <div class=\"colab-df-buttons\">\n",
              "\n",
              "  <div class=\"colab-df-container\">\n",
              "    <button class=\"colab-df-convert\" onclick=\"convertToInteractive('df-575723dc-b698-42cb-b30c-29005a9ed4b1')\"\n",
              "            title=\"Convert this dataframe to an interactive table.\"\n",
              "            style=\"display:none;\">\n",
              "\n",
              "  <svg xmlns=\"http://www.w3.org/2000/svg\" height=\"24px\" viewBox=\"0 -960 960 960\">\n",
              "    <path d=\"M120-120v-720h720v720H120Zm60-500h600v-160H180v160Zm220 220h160v-160H400v160Zm0 220h160v-160H400v160ZM180-400h160v-160H180v160Zm440 0h160v-160H620v160ZM180-180h160v-160H180v160Zm440 0h160v-160H620v160Z\"/>\n",
              "  </svg>\n",
              "    </button>\n",
              "\n",
              "  <style>\n",
              "    .colab-df-container {\n",
              "      display:flex;\n",
              "      gap: 12px;\n",
              "    }\n",
              "\n",
              "    .colab-df-convert {\n",
              "      background-color: #E8F0FE;\n",
              "      border: none;\n",
              "      border-radius: 50%;\n",
              "      cursor: pointer;\n",
              "      display: none;\n",
              "      fill: #1967D2;\n",
              "      height: 32px;\n",
              "      padding: 0 0 0 0;\n",
              "      width: 32px;\n",
              "    }\n",
              "\n",
              "    .colab-df-convert:hover {\n",
              "      background-color: #E2EBFA;\n",
              "      box-shadow: 0px 1px 2px rgba(60, 64, 67, 0.3), 0px 1px 3px 1px rgba(60, 64, 67, 0.15);\n",
              "      fill: #174EA6;\n",
              "    }\n",
              "\n",
              "    .colab-df-buttons div {\n",
              "      margin-bottom: 4px;\n",
              "    }\n",
              "\n",
              "    [theme=dark] .colab-df-convert {\n",
              "      background-color: #3B4455;\n",
              "      fill: #D2E3FC;\n",
              "    }\n",
              "\n",
              "    [theme=dark] .colab-df-convert:hover {\n",
              "      background-color: #434B5C;\n",
              "      box-shadow: 0px 1px 3px 1px rgba(0, 0, 0, 0.15);\n",
              "      filter: drop-shadow(0px 1px 2px rgba(0, 0, 0, 0.3));\n",
              "      fill: #FFFFFF;\n",
              "    }\n",
              "  </style>\n",
              "\n",
              "    <script>\n",
              "      const buttonEl =\n",
              "        document.querySelector('#df-575723dc-b698-42cb-b30c-29005a9ed4b1 button.colab-df-convert');\n",
              "      buttonEl.style.display =\n",
              "        google.colab.kernel.accessAllowed ? 'block' : 'none';\n",
              "\n",
              "      async function convertToInteractive(key) {\n",
              "        const element = document.querySelector('#df-575723dc-b698-42cb-b30c-29005a9ed4b1');\n",
              "        const dataTable =\n",
              "          await google.colab.kernel.invokeFunction('convertToInteractive',\n",
              "                                                    [key], {});\n",
              "        if (!dataTable) return;\n",
              "\n",
              "        const docLinkHtml = 'Like what you see? Visit the ' +\n",
              "          '<a target=\"_blank\" href=https://colab.research.google.com/notebooks/data_table.ipynb>data table notebook</a>'\n",
              "          + ' to learn more about interactive tables.';\n",
              "        element.innerHTML = '';\n",
              "        dataTable['output_type'] = 'display_data';\n",
              "        await google.colab.output.renderOutput(dataTable, element);\n",
              "        const docLink = document.createElement('div');\n",
              "        docLink.innerHTML = docLinkHtml;\n",
              "        element.appendChild(docLink);\n",
              "      }\n",
              "    </script>\n",
              "  </div>\n",
              "\n",
              "    </div>\n",
              "  </div>\n"
            ],
            "application/vnd.google.colaboratory.intrinsic+json": {
              "type": "dataframe",
              "variable_name": "duplicateRows",
              "repr_error": "Out of range float values are not JSON compliant: nan"
            }
          },
          "metadata": {},
          "execution_count": 8
        }
      ]
    },
    {
      "cell_type": "markdown",
      "source": [
        "В датасете нет дубликатов, все новости являются уникальными"
      ],
      "metadata": {
        "id": "syJRjyG8H-mj"
      }
    },
    {
      "cell_type": "code",
      "source": [
        "ria_news[\"datetime\"] = pd.to_datetime(ria_news['date'], format='%Y-%m-%d')\n",
        "\n",
        "plt.figure(figsize=(10, 6))\n",
        "ria_news[\"datetime\"].dt.month.value_counts().plot(kind=\"bar\")\n",
        "plt.title(\"Распределение новостей по месяцам\")\n",
        "plt.xlabel(\"Месяц\")\n",
        "plt.ylabel(\"Количество новостей\")\n",
        "plt.show()"
      ],
      "metadata": {
        "id": "0CXD-EH53y13",
        "outputId": "d6a0ea17-60a6-41c5-c45c-bcb8fd9beb58",
        "colab": {
          "base_uri": "https://localhost:8080/",
          "height": 568
        }
      },
      "execution_count": null,
      "outputs": [
        {
          "output_type": "display_data",
          "data": {
            "text/plain": [
              "<Figure size 1000x600 with 1 Axes>"
            ],
            "image/png": "[encoded data removed]"
          },
          "metadata": {}
        }
      ]
    },
    {
      "cell_type": "markdown",
      "source": [
        "В общем, данные распределены достаточно равномерно, однако в марте меньше всего данных."
      ],
      "metadata": {
        "id": "MD4muI-Y32-G"
      }
    },
    {
      "cell_type": "markdown",
      "metadata": {
        "id": "Xn6V2vuPbUK_"
      },
      "source": [
        "#Preprocessing data"
      ]
    },
    {
      "cell_type": "code",
      "execution_count": 5,
      "metadata": {
        "colab": {
          "base_uri": "https://localhost:8080/"
        },
        "id": "EhhKuOw2fbnF",
        "outputId": "024c456b-d3ba-492c-8b95-43c3cc929768"
      },
      "outputs": [
        {
          "output_type": "stream",
          "name": "stderr",
          "text": [
            "[nltk_data] Downloading package punkt to /root/nltk_data...\n",
            "[nltk_data]   Unzipping tokenizers/punkt.zip.\n",
            "[nltk_data] Downloading package stopwords to /root/nltk_data...\n",
            "[nltk_data]   Unzipping corpora/stopwords.zip.\n"
          ]
        },
        {
          "output_type": "execute_result",
          "data": {
            "text/plain": [
              "True"
            ]
          },
          "metadata": {},
          "execution_count": 5
        }
      ],
      "source": [
        "nltk.download('punkt')\n",
        "nltk.download('stopwords')"
      ]
    },
    {
      "cell_type": "code",
      "execution_count": 6,
      "metadata": {
        "id": "JNZMf4pRKzTr"
      },
      "outputs": [],
      "source": [
        "stop_words = set(stopwords.words('russian'))"
      ]
    },
    {
      "cell_type": "code",
      "execution_count": 7,
      "metadata": {
        "id": "CV_eWhgPvBlO"
      },
      "outputs": [],
      "source": [
        "def preprocess_text(text):\n",
        "    text = re.sub('[^а-яa-z0-9 ]', '', text.lower())\n",
        "    tokens = word_tokenize(text)\n",
        "    tokens = [word for word in tokens if word not in stop_words]\n",
        "    return ' '.join(tokens)"
      ]
    },
    {
      "cell_type": "code",
      "execution_count": 10,
      "metadata": {
        "id": "TYawVA7_AdED"
      },
      "outputs": [],
      "source": [
        "ria_news['title_clean'] = ria_news['title'].apply(preprocess_text)\n",
        "df_vk['title_clean'] = df_vk.title.apply(preprocess_text)"
      ]
    },
    {
      "cell_type": "markdown",
      "source": [
        "# Отложенная выборка"
      ],
      "metadata": {
        "id": "k6bixu-t2AXX"
      }
    },
    {
      "cell_type": "code",
      "source": [
        "ria_hrefs = set(ria_news.href.values)\n",
        "vk_hrefs = set(df_vk.href.values)\n",
        "test_hrefs = (vk_hrefs & ria_hrefs)\n",
        "\n",
        "print('Размер отложенной выборки:', len(test_hrefs))\n",
        "\n",
        "df = ria_news[~ria_news.href.isin(test_hrefs)]"
      ],
      "metadata": {
        "id": "p51Feoez2Dsl",
        "outputId": "5139029d-ef56-4fea-fef6-873927be1a41",
        "colab": {
          "base_uri": "https://localhost:8080/"
        }
      },
      "execution_count": 12,
      "outputs": [
        {
          "output_type": "stream",
          "name": "stdout",
          "text": [
            "Размер отложенной выборки: 1028\n"
          ]
        }
      ]
    },
    {
      "cell_type": "code",
      "source": [
        "df_oob = df_vk[df_vk.href.isin(test_hrefs)][['href', 'title_clean']]\n",
        "\n",
        "df_ria_oob = ria_news[ria_news.href.isin(test_hrefs)][['href', 'category']]\n",
        "df_oob = df_oob.set_index('href').join(df_ria_oob.set_index('href')).reset_index()\n",
        "df_oob.head(3)"
      ],
      "metadata": {
        "id": "sh9kyzg82Dv8",
        "outputId": "a2c6bf55-64ba-439a-f05f-c821b0a44ae0",
        "colab": {
          "base_uri": "https://localhost:8080/",
          "height": 143
        }
      },
      "execution_count": null,
      "outputs": [
        {
          "output_type": "execute_result",
          "data": {
            "text/plain": [
              "                        href  \\\n",
              "0  /20181206/1547493936.html   \n",
              "1  /20181206/1547516457.html   \n",
              "2  /20181206/1547520788.html   \n",
              "\n",
              "                                         title_clean category  \n",
              "0  эксперты определили самые бюджетные экзотическ...   Туризм  \n",
              "1  рада приняла закон расширяющий контролируемую ...   В мире  \n",
              "2  россия оказалась родиной древнейших титанозавр...    Наука  "
            ],
            "text/html": [
              "\n",
              "  <div id=\"df-14d108fd-8575-45dd-ac63-82a4730c5854\" class=\"colab-df-container\">\n",
              "    <div>\n",
              "<style scoped>\n",
              "    .dataframe tbody tr th:only-of-type {\n",
              "        vertical-align: middle;\n",
              "    }\n",
              "\n",
              "    .dataframe tbody tr th {\n",
              "        vertical-align: top;\n",
              "    }\n",
              "\n",
              "    .dataframe thead th {\n",
              "        text-align: right;\n",
              "    }\n",
              "</style>\n",
              "<table border=\"1\" class=\"dataframe\">\n",
              "  <thead>\n",
              "    <tr style=\"text-align: right;\">\n",
              "      <th></th>\n",
              "      <th>href</th>\n",
              "      <th>title_clean</th>\n",
              "      <th>category</th>\n",
              "    </tr>\n",
              "  </thead>\n",
              "  <tbody>\n",
              "    <tr>\n",
              "      <th>0</th>\n",
              "      <td>/20181206/1547493936.html</td>\n",
              "      <td>эксперты определили самые бюджетные экзотическ...</td>\n",
              "      <td>Туризм</td>\n",
              "    </tr>\n",
              "    <tr>\n",
              "      <th>1</th>\n",
              "      <td>/20181206/1547516457.html</td>\n",
              "      <td>рада приняла закон расширяющий контролируемую ...</td>\n",
              "      <td>В мире</td>\n",
              "    </tr>\n",
              "    <tr>\n",
              "      <th>2</th>\n",
              "      <td>/20181206/1547520788.html</td>\n",
              "      <td>россия оказалась родиной древнейших титанозавр...</td>\n",
              "      <td>Наука</td>\n",
              "    </tr>\n",
              "  </tbody>\n",
              "</table>\n",
              "</div>\n",
              "    <div class=\"colab-df-buttons\">\n",
              "\n",
              "  <div class=\"colab-df-container\">\n",
              "    <button class=\"colab-df-convert\" onclick=\"convertToInteractive('df-14d108fd-8575-45dd-ac63-82a4730c5854')\"\n",
              "            title=\"Convert this dataframe to an interactive table.\"\n",
              "            style=\"display:none;\">\n",
              "\n",
              "  <svg xmlns=\"http://www.w3.org/2000/svg\" height=\"24px\" viewBox=\"0 -960 960 960\">\n",
              "    <path d=\"M120-120v-720h720v720H120Zm60-500h600v-160H180v160Zm220 220h160v-160H400v160Zm0 220h160v-160H400v160ZM180-400h160v-160H180v160Zm440 0h160v-160H620v160ZM180-180h160v-160H180v160Zm440 0h160v-160H620v160Z\"/>\n",
              "  </svg>\n",
              "    </button>\n",
              "\n",
              "  <style>\n",
              "    .colab-df-container {\n",
              "      display:flex;\n",
              "      gap: 12px;\n",
              "    }\n",
              "\n",
              "    .colab-df-convert {\n",
              "      background-color: #E8F0FE;\n",
              "      border: none;\n",
              "      border-radius: 50%;\n",
              "      cursor: pointer;\n",
              "      display: none;\n",
              "      fill: #1967D2;\n",
              "      height: 32px;\n",
              "      padding: 0 0 0 0;\n",
              "      width: 32px;\n",
              "    }\n",
              "\n",
              "    .colab-df-convert:hover {\n",
              "      background-color: #E2EBFA;\n",
              "      box-shadow: 0px 1px 2px rgba(60, 64, 67, 0.3), 0px 1px 3px 1px rgba(60, 64, 67, 0.15);\n",
              "      fill: #174EA6;\n",
              "    }\n",
              "\n",
              "    .colab-df-buttons div {\n",
              "      margin-bottom: 4px;\n",
              "    }\n",
              "\n",
              "    [theme=dark] .colab-df-convert {\n",
              "      background-color: #3B4455;\n",
              "      fill: #D2E3FC;\n",
              "    }\n",
              "\n",
              "    [theme=dark] .colab-df-convert:hover {\n",
              "      background-color: #434B5C;\n",
              "      box-shadow: 0px 1px 3px 1px rgba(0, 0, 0, 0.15);\n",
              "      filter: drop-shadow(0px 1px 2px rgba(0, 0, 0, 0.3));\n",
              "      fill: #FFFFFF;\n",
              "    }\n",
              "  </style>\n",
              "\n",
              "    <script>\n",
              "      const buttonEl =\n",
              "        document.querySelector('#df-14d108fd-8575-45dd-ac63-82a4730c5854 button.colab-df-convert');\n",
              "      buttonEl.style.display =\n",
              "        google.colab.kernel.accessAllowed ? 'block' : 'none';\n",
              "\n",
              "      async function convertToInteractive(key) {\n",
              "        const element = document.querySelector('#df-14d108fd-8575-45dd-ac63-82a4730c5854');\n",
              "        const dataTable =\n",
              "          await google.colab.kernel.invokeFunction('convertToInteractive',\n",
              "                                                    [key], {});\n",
              "        if (!dataTable) return;\n",
              "\n",
              "        const docLinkHtml = 'Like what you see? Visit the ' +\n",
              "          '<a target=\"_blank\" href=https://colab.research.google.com/notebooks/data_table.ipynb>data table notebook</a>'\n",
              "          + ' to learn more about interactive tables.';\n",
              "        element.innerHTML = '';\n",
              "        dataTable['output_type'] = 'display_data';\n",
              "        await google.colab.output.renderOutput(dataTable, element);\n",
              "        const docLink = document.createElement('div');\n",
              "        docLink.innerHTML = docLinkHtml;\n",
              "        element.appendChild(docLink);\n",
              "      }\n",
              "    </script>\n",
              "  </div>\n",
              "\n",
              "\n",
              "<div id=\"df-6c2ad8b4-9171-457d-8cc5-8ebc91627531\">\n",
              "  <button class=\"colab-df-quickchart\" onclick=\"quickchart('df-6c2ad8b4-9171-457d-8cc5-8ebc91627531')\"\n",
              "            title=\"Suggest charts\"\n",
              "            style=\"display:none;\">\n",
              "\n",
              "<svg xmlns=\"http://www.w3.org/2000/svg\" height=\"24px\"viewBox=\"0 0 24 24\"\n",
              "     width=\"24px\">\n",
              "    <g>\n",
              "        <path d=\"M19 3H5c-1.1 0-2 .9-2 2v14c0 1.1.9 2 2 2h14c1.1 0 2-.9 2-2V5c0-1.1-.9-2-2-2zM9 17H7v-7h2v7zm4 0h-2V7h2v10zm4 0h-2v-4h2v4z\"/>\n",
              "    </g>\n",
              "</svg>\n",
              "  </button>\n",
              "\n",
              "<style>\n",
              "  .colab-df-quickchart {\n",
              "      --bg-color: #E8F0FE;\n",
              "      --fill-color: #1967D2;\n",
              "      --hover-bg-color: #E2EBFA;\n",
              "      --hover-fill-color: #174EA6;\n",
              "      --disabled-fill-color: #AAA;\n",
              "      --disabled-bg-color: #DDD;\n",
              "  }\n",
              "\n",
              "  [theme=dark] .colab-df-quickchart {\n",
              "      --bg-color: #3B4455;\n",
              "      --fill-color: #D2E3FC;\n",
              "      --hover-bg-color: #434B5C;\n",
              "      --hover-fill-color: #FFFFFF;\n",
              "      --disabled-bg-color: #3B4455;\n",
              "      --disabled-fill-color: #666;\n",
              "  }\n",
              "\n",
              "  .colab-df-quickchart {\n",
              "    background-color: var(--bg-color);\n",
              "    border: none;\n",
              "    border-radius: 50%;\n",
              "    cursor: pointer;\n",
              "    display: none;\n",
              "    fill: var(--fill-color);\n",
              "    height: 32px;\n",
              "    padding: 0;\n",
              "    width: 32px;\n",
              "  }\n",
              "\n",
              "  .colab-df-quickchart:hover {\n",
              "    background-color: var(--hover-bg-color);\n",
              "    box-shadow: 0 1px 2px rgba(60, 64, 67, 0.3), 0 1px 3px 1px rgba(60, 64, 67, 0.15);\n",
              "    fill: var(--button-hover-fill-color);\n",
              "  }\n",
              "\n",
              "  .colab-df-quickchart-complete:disabled,\n",
              "  .colab-df-quickchart-complete:disabled:hover {\n",
              "    background-color: var(--disabled-bg-color);\n",
              "    fill: var(--disabled-fill-color);\n",
              "    box-shadow: none;\n",
              "  }\n",
              "\n",
              "  .colab-df-spinner {\n",
              "    border: 2px solid var(--fill-color);\n",
              "    border-color: transparent;\n",
              "    border-bottom-color: var(--fill-color);\n",
              "    animation:\n",
              "      spin 1s steps(1) infinite;\n",
              "  }\n",
              "\n",
              "  @keyframes spin {\n",
              "    0% {\n",
              "      border-color: transparent;\n",
              "      border-bottom-color: var(--fill-color);\n",
              "      border-left-color: var(--fill-color);\n",
              "    }\n",
              "    20% {\n",
              "      border-color: transparent;\n",
              "      border-left-color: var(--fill-color);\n",
              "      border-top-color: var(--fill-color);\n",
              "    }\n",
              "    30% {\n",
              "      border-color: transparent;\n",
              "      border-left-color: var(--fill-color);\n",
              "      border-top-color: var(--fill-color);\n",
              "      border-right-color: var(--fill-color);\n",
              "    }\n",
              "    40% {\n",
              "      border-color: transparent;\n",
              "      border-right-color: var(--fill-color);\n",
              "      border-top-color: var(--fill-color);\n",
              "    }\n",
              "    60% {\n",
              "      border-color: transparent;\n",
              "      border-right-color: var(--fill-color);\n",
              "    }\n",
              "    80% {\n",
              "      border-color: transparent;\n",
              "      border-right-color: var(--fill-color);\n",
              "      border-bottom-color: var(--fill-color);\n",
              "    }\n",
              "    90% {\n",
              "      border-color: transparent;\n",
              "      border-bottom-color: var(--fill-color);\n",
              "    }\n",
              "  }\n",
              "</style>\n",
              "\n",
              "  <script>\n",
              "    async function quickchart(key) {\n",
              "      const quickchartButtonEl =\n",
              "        document.querySelector('#' + key + ' button');\n",
              "      quickchartButtonEl.disabled = true;  // To prevent multiple clicks.\n",
              "      quickchartButtonEl.classList.add('colab-df-spinner');\n",
              "      try {\n",
              "        const charts = await google.colab.kernel.invokeFunction(\n",
              "            'suggestCharts', [key], {});\n",
              "      } catch (error) {\n",
              "        console.error('Error during call to suggestCharts:', error);\n",
              "      }\n",
              "      quickchartButtonEl.classList.remove('colab-df-spinner');\n",
              "      quickchartButtonEl.classList.add('colab-df-quickchart-complete');\n",
              "    }\n",
              "    (() => {\n",
              "      let quickchartButtonEl =\n",
              "        document.querySelector('#df-6c2ad8b4-9171-457d-8cc5-8ebc91627531 button');\n",
              "      quickchartButtonEl.style.display =\n",
              "        google.colab.kernel.accessAllowed ? 'block' : 'none';\n",
              "    })();\n",
              "  </script>\n",
              "</div>\n",
              "    </div>\n",
              "  </div>\n"
            ],
            "application/vnd.google.colaboratory.intrinsic+json": {
              "type": "dataframe",
              "variable_name": "df_oob",
              "summary": "{\n  \"name\": \"df_oob\",\n  \"rows\": 1031,\n  \"fields\": [\n    {\n      \"column\": \"href\",\n      \"properties\": {\n        \"dtype\": \"string\",\n        \"num_unique_values\": 1028,\n        \"samples\": [\n          \"/20181217/1548079469.html\",\n          \"/20181219/1548284801.html\",\n          \"/20181216/1548052573.html\"\n        ],\n        \"semantic_type\": \"\",\n        \"description\": \"\"\n      }\n    },\n    {\n      \"column\": \"title_clean\",\n      \"properties\": {\n        \"dtype\": \"string\",\n        \"num_unique_values\": 1029,\n        \"samples\": [\n          \"\\u043f\\u043e\\u0440\\u043e\\u0448\\u0435\\u043d\\u043a\\u043e \\u043d\\u0430\\u0437\\u0432\\u0430\\u043b \\u0432\\u0435\\u0449\\u0438 \\u043a\\u043e\\u0442\\u043e\\u0440\\u044b\\u0445 \\u0431\\u043e\\u0438\\u0442\\u0441\\u044f \\u0440\\u043e\\u0441\\u0441\\u0438\\u044f\",\n          \"101\\u043b\\u0435\\u0442\\u043d\\u0435\\u0439 \\u043c\\u043e\\u0441\\u043a\\u0432\\u0438\\u0447\\u043a\\u0438 \\u0443\\u043a\\u0440\\u0430\\u043b\\u0438 300 \\u0442\\u044b\\u0441\\u044f\\u0447 \\u0440\\u0443\\u0431\\u043b\\u0435\\u0439\",\n          \"\\u0444\\u0438\\u043b\\u044c\\u043c\\u043e\\u043c \\u043d\\u044e\\u0440\\u043d\\u0431\\u0435\\u0440\\u0433\\u0441\\u043a\\u043e\\u043c \\u043f\\u0440\\u043e\\u0446\\u0435\\u0441\\u0441\\u0435 \\u0440\\u0430\\u0431\\u043e\\u0442\\u0430\\u0442\\u044c \\u043a\\u043e\\u043c\\u0430\\u043d\\u0434\\u0430 \\u0441\\u043e\\u0431\\u0438\\u0431\\u043e\\u0440\\u0430\"\n        ],\n        \"semantic_type\": \"\",\n        \"description\": \"\"\n      }\n    },\n    {\n      \"column\": \"category\",\n      \"properties\": {\n        \"dtype\": \"category\",\n        \"num_unique_values\": 10,\n        \"samples\": [\n          \"\\u042d\\u043a\\u043e\\u043d\\u043e\\u043c\\u0438\\u043a\\u0430\",\n          \"\\u0412 \\u043c\\u0438\\u0440\\u0435\",\n          \"\\u041f\\u0440\\u043e\\u0438\\u0441\\u0448\\u0435\\u0441\\u0442\\u0432\\u0438\\u044f\"\n        ],\n        \"semantic_type\": \"\",\n        \"description\": \"\"\n      }\n    }\n  ]\n}"
            }
          },
          "metadata": {},
          "execution_count": 15
        }
      ]
    },
    {
      "cell_type": "markdown",
      "source": [
        "# Разбение на обучающую, валидационную и тестовую выборки"
      ],
      "metadata": {
        "id": "3wbhXHEr2H6P"
      }
    },
    {
      "cell_type": "code",
      "execution_count": 13,
      "metadata": {
        "id": "p1v3hTfFhJli"
      },
      "outputs": [],
      "source": [
        "x = df['title_clean']\n",
        "y = df['category']"
      ]
    },
    {
      "cell_type": "code",
      "execution_count": 14,
      "metadata": {
        "colab": {
          "base_uri": "https://localhost:8080/"
        },
        "id": "mjDdEJbzV7Tc",
        "outputId": "036ea19d-ef02-4753-c943-b53ffb700eb2"
      },
      "outputs": [
        {
          "output_type": "stream",
          "name": "stdout",
          "text": [
            "Training Data Shape: (106742,)\n",
            "Testing Data Shape: (32022,)\n",
            "Validation Data Shape: (13725,)\n"
          ]
        }
      ],
      "source": [
        "x_train, x_test, y_train, y_test = train_test_split(x, y, test_size=0.3, random_state=77)\n",
        "x_test, x_val, y_test, y_val = train_test_split(x_test, y_test, test_size=0.3, random_state=77)\n",
        "\n",
        "print(f\"Training Data Shape: {x_train.shape}\")\n",
        "print(f\"Testing Data Shape: {x_test.shape}\")\n",
        "print(f\"Validation Data Shape: {x_val.shape}\")"
      ]
    },
    {
      "cell_type": "code",
      "execution_count": null,
      "metadata": {
        "colab": {
          "base_uri": "https://localhost:8080/",
          "height": 1000
        },
        "id": "YXn_MZuKwqfA",
        "outputId": "fd0f4249-6067-49c2-ba29-f5d552f70dff"
      },
      "outputs": [
        {
          "output_type": "execute_result",
          "data": {
            "text/plain": [
              "                             href        date                    time  \\\n",
              "0       /20181231/1548961410.html  2018-12-31  31 декабря 2018, 23:52   \n",
              "1       /20181231/1548961364.html  2018-12-31  31 декабря 2018, 23:19   \n",
              "2       /20181231/1548961218.html  2018-12-31  31 декабря 2018, 23:06   \n",
              "3       /20181231/1548961104.html  2018-12-31  31 декабря 2018, 22:50   \n",
              "4       /20181231/1548961026.html  2018-12-31  31 декабря 2018, 22:33   \n",
              "...                           ...         ...                     ...   \n",
              "153512  /20180315/1516435607.html  2018-03-15    15 марта 2018, 14:49   \n",
              "153513  /20180315/1517454702.html  2018-03-15    15 марта 2018, 14:48   \n",
              "153514  /20180315/1516435453.html  2018-03-15    15 марта 2018, 14:48   \n",
              "153515  /20180315/1516435313.html  2018-03-15    15 марта 2018, 14:47   \n",
              "153516  /20180315/1516435244.html  2018-03-15    15 марта 2018, 14:47   \n",
              "\n",
              "                                                    title  \\\n",
              "0       Нетаньяху не собирается в отставку в случае пр...   \n",
              "1       Макрон в новогоднем обращении затронул тему ре...   \n",
              "2       СМИ: Кевину Спейси не разрешили отсутствовать ...   \n",
              "3       В Таиланде россиянин получил тяжелую черепную ...   \n",
              "4       Медведев поздравил россиян с наступающим Новым...   \n",
              "...                                                   ...   \n",
              "153512  Во \"Владимирском централе\" убавили громкость п...   \n",
              "153513  \"Газпром\" выделит 22,5 млрд рублей на газопров...   \n",
              "153514  Столтенберг проведет встречу с Джонсоном по \"д...   \n",
              "153515  Британские военные смогут поставить прививку о...   \n",
              "153516  Британский парламент может рассмотреть резолюц...   \n",
              "\n",
              "                                                  snippet      category  \\\n",
              "0       Премьер-министр Израиля Биньямин Нетаньяху не ...        В мире   \n",
              "1       Результат реформ не может быть мгновенным, зая...        В мире   \n",
              "2       Суд в американском штате Массачусетс отверг хо...        В мире   \n",
              "3       Россиянин Борис Победоносец 1989 года рождения...        В мире   \n",
              "4       Глава российского правительства Дмитрий Медвед...      Общество   \n",
              "...                                                   ...           ...   \n",
              "153512   <p><strong>ЯРОСЛАВЛЬ, 15 мар — РИА Новости.</...  Происшествия   \n",
              "153513   <p><strong>МОСКВА, 15 мар — РИА Новости.</str...     Экономика   \n",
              "153514   <p><strong>БРЮССЕЛЬ, 15 мар — РИА Новости.</s...        В мире   \n",
              "153515   <p><strong></strong></p>\\n<p><strong>ЛОНДОН, ...        В мире   \n",
              "153516   <p><strong>ЛОНДОН, 15 мар – РИА Новости, Дени...        В мире   \n",
              "\n",
              "                                                     tags   datetime  \\\n",
              "0                     Биньямин Нетаньяху, Израиль, В мире 2018-12-31   \n",
              "1                       Эммануэль Макрон, Франция, В мире 2018-12-31   \n",
              "2                               Кевин Спейси, США, В мире 2018-12-31   \n",
              "3                                         Таиланд, В мире 2018-12-31   \n",
              "4       Новый год—2019, Дмитрий Медведев, Россия, Обще... 2018-12-31   \n",
              "...                                                   ...        ...   \n",
              "153512       Владимир, Владимирская область, Происшествия 2018-03-15   \n",
              "153513            Газпром, Вологодская область, Экономика 2018-03-15   \n",
              "153514  Дело об отравлении Скрипалей, НАТО, Великобрит... 2018-03-15   \n",
              "153515                             Великобритания, В мире 2018-03-15   \n",
              "153516  Дело об отравлении Скрипалей, Парламент Велико... 2018-03-15   \n",
              "\n",
              "                                              title_clean  \n",
              "0       нетаньяху собирается отставку случае предъявле...  \n",
              "1        макрон новогоднем обращении затронул тему реформ  \n",
              "2       сми кевину спейси разрешили отсутствовать засе...  \n",
              "3       таиланде россиянин получил тяжелую черепную тр...  \n",
              "4       медведев поздравил россиян наступающим новым г...  \n",
              "...                                                   ...  \n",
              "153512  владимирском централе убавили громкость попмузыки  \n",
              "153513  газпром выделит 225 млрд рублей газопроводы во...  \n",
              "153514  столтенберг проведет встречу джонсоном делу ск...  \n",
              "153515  британские военные смогут поставить прививку с...  \n",
              "153516  британский парламент рассмотреть резолюцию под...  \n",
              "\n",
              "[153517 rows x 9 columns]"
            ],
            "text/html": [
              "\n",
              "  <div id=\"df-c87aeefc-f115-4ae7-b41d-5a4d53eaa577\" class=\"colab-df-container\">\n",
              "    <div>\n",
              "<style scoped>\n",
              "    .dataframe tbody tr th:only-of-type {\n",
              "        vertical-align: middle;\n",
              "    }\n",
              "\n",
              "    .dataframe tbody tr th {\n",
              "        vertical-align: top;\n",
              "    }\n",
              "\n",
              "    .dataframe thead th {\n",
              "        text-align: right;\n",
              "    }\n",
              "</style>\n",
              "<table border=\"1\" class=\"dataframe\">\n",
              "  <thead>\n",
              "    <tr style=\"text-align: right;\">\n",
              "      <th></th>\n",
              "      <th>href</th>\n",
              "      <th>date</th>\n",
              "      <th>time</th>\n",
              "      <th>title</th>\n",
              "      <th>snippet</th>\n",
              "      <th>category</th>\n",
              "      <th>tags</th>\n",
              "      <th>datetime</th>\n",
              "      <th>title_clean</th>\n",
              "    </tr>\n",
              "  </thead>\n",
              "  <tbody>\n",
              "    <tr>\n",
              "      <th>0</th>\n",
              "      <td>/20181231/1548961410.html</td>\n",
              "      <td>2018-12-31</td>\n",
              "      <td>31 декабря 2018, 23:52</td>\n",
              "      <td>Нетаньяху не собирается в отставку в случае пр...</td>\n",
              "      <td>Премьер-министр Израиля Биньямин Нетаньяху не ...</td>\n",
              "      <td>В мире</td>\n",
              "      <td>Биньямин Нетаньяху, Израиль, В мире</td>\n",
              "      <td>2018-12-31</td>\n",
              "      <td>нетаньяху собирается отставку случае предъявле...</td>\n",
              "    </tr>\n",
              "    <tr>\n",
              "      <th>1</th>\n",
              "      <td>/20181231/1548961364.html</td>\n",
              "      <td>2018-12-31</td>\n",
              "      <td>31 декабря 2018, 23:19</td>\n",
              "      <td>Макрон в новогоднем обращении затронул тему ре...</td>\n",
              "      <td>Результат реформ не может быть мгновенным, зая...</td>\n",
              "      <td>В мире</td>\n",
              "      <td>Эммануэль Макрон, Франция, В мире</td>\n",
              "      <td>2018-12-31</td>\n",
              "      <td>макрон новогоднем обращении затронул тему реформ</td>\n",
              "    </tr>\n",
              "    <tr>\n",
              "      <th>2</th>\n",
              "      <td>/20181231/1548961218.html</td>\n",
              "      <td>2018-12-31</td>\n",
              "      <td>31 декабря 2018, 23:06</td>\n",
              "      <td>СМИ: Кевину Спейси не разрешили отсутствовать ...</td>\n",
              "      <td>Суд в американском штате Массачусетс отверг хо...</td>\n",
              "      <td>В мире</td>\n",
              "      <td>Кевин Спейси, США, В мире</td>\n",
              "      <td>2018-12-31</td>\n",
              "      <td>сми кевину спейси разрешили отсутствовать засе...</td>\n",
              "    </tr>\n",
              "    <tr>\n",
              "      <th>3</th>\n",
              "      <td>/20181231/1548961104.html</td>\n",
              "      <td>2018-12-31</td>\n",
              "      <td>31 декабря 2018, 22:50</td>\n",
              "      <td>В Таиланде россиянин получил тяжелую черепную ...</td>\n",
              "      <td>Россиянин Борис Победоносец 1989 года рождения...</td>\n",
              "      <td>В мире</td>\n",
              "      <td>Таиланд, В мире</td>\n",
              "      <td>2018-12-31</td>\n",
              "      <td>таиланде россиянин получил тяжелую черепную тр...</td>\n",
              "    </tr>\n",
              "    <tr>\n",
              "      <th>4</th>\n",
              "      <td>/20181231/1548961026.html</td>\n",
              "      <td>2018-12-31</td>\n",
              "      <td>31 декабря 2018, 22:33</td>\n",
              "      <td>Медведев поздравил россиян с наступающим Новым...</td>\n",
              "      <td>Глава российского правительства Дмитрий Медвед...</td>\n",
              "      <td>Общество</td>\n",
              "      <td>Новый год—2019, Дмитрий Медведев, Россия, Обще...</td>\n",
              "      <td>2018-12-31</td>\n",
              "      <td>медведев поздравил россиян наступающим новым г...</td>\n",
              "    </tr>\n",
              "    <tr>\n",
              "      <th>...</th>\n",
              "      <td>...</td>\n",
              "      <td>...</td>\n",
              "      <td>...</td>\n",
              "      <td>...</td>\n",
              "      <td>...</td>\n",
              "      <td>...</td>\n",
              "      <td>...</td>\n",
              "      <td>...</td>\n",
              "      <td>...</td>\n",
              "    </tr>\n",
              "    <tr>\n",
              "      <th>153512</th>\n",
              "      <td>/20180315/1516435607.html</td>\n",
              "      <td>2018-03-15</td>\n",
              "      <td>15 марта 2018, 14:49</td>\n",
              "      <td>Во \"Владимирском централе\" убавили громкость п...</td>\n",
              "      <td>&lt;p&gt;&lt;strong&gt;ЯРОСЛАВЛЬ, 15 мар — РИА Новости.&lt;/...</td>\n",
              "      <td>Происшествия</td>\n",
              "      <td>Владимир, Владимирская область, Происшествия</td>\n",
              "      <td>2018-03-15</td>\n",
              "      <td>владимирском централе убавили громкость попмузыки</td>\n",
              "    </tr>\n",
              "    <tr>\n",
              "      <th>153513</th>\n",
              "      <td>/20180315/1517454702.html</td>\n",
              "      <td>2018-03-15</td>\n",
              "      <td>15 марта 2018, 14:48</td>\n",
              "      <td>\"Газпром\" выделит 22,5 млрд рублей на газопров...</td>\n",
              "      <td>&lt;p&gt;&lt;strong&gt;МОСКВА, 15 мар — РИА Новости.&lt;/str...</td>\n",
              "      <td>Экономика</td>\n",
              "      <td>Газпром, Вологодская область, Экономика</td>\n",
              "      <td>2018-03-15</td>\n",
              "      <td>газпром выделит 225 млрд рублей газопроводы во...</td>\n",
              "    </tr>\n",
              "    <tr>\n",
              "      <th>153514</th>\n",
              "      <td>/20180315/1516435453.html</td>\n",
              "      <td>2018-03-15</td>\n",
              "      <td>15 марта 2018, 14:48</td>\n",
              "      <td>Столтенберг проведет встречу с Джонсоном по \"д...</td>\n",
              "      <td>&lt;p&gt;&lt;strong&gt;БРЮССЕЛЬ, 15 мар — РИА Новости.&lt;/s...</td>\n",
              "      <td>В мире</td>\n",
              "      <td>Дело об отравлении Скрипалей, НАТО, Великобрит...</td>\n",
              "      <td>2018-03-15</td>\n",
              "      <td>столтенберг проведет встречу джонсоном делу ск...</td>\n",
              "    </tr>\n",
              "    <tr>\n",
              "      <th>153515</th>\n",
              "      <td>/20180315/1516435313.html</td>\n",
              "      <td>2018-03-15</td>\n",
              "      <td>15 марта 2018, 14:47</td>\n",
              "      <td>Британские военные смогут поставить прививку о...</td>\n",
              "      <td>&lt;p&gt;&lt;strong&gt;&lt;/strong&gt;&lt;/p&gt;\\n&lt;p&gt;&lt;strong&gt;ЛОНДОН, ...</td>\n",
              "      <td>В мире</td>\n",
              "      <td>Великобритания, В мире</td>\n",
              "      <td>2018-03-15</td>\n",
              "      <td>британские военные смогут поставить прививку с...</td>\n",
              "    </tr>\n",
              "    <tr>\n",
              "      <th>153516</th>\n",
              "      <td>/20180315/1516435244.html</td>\n",
              "      <td>2018-03-15</td>\n",
              "      <td>15 марта 2018, 14:47</td>\n",
              "      <td>Британский парламент может рассмотреть резолюц...</td>\n",
              "      <td>&lt;p&gt;&lt;strong&gt;ЛОНДОН, 15 мар – РИА Новости, Дени...</td>\n",
              "      <td>В мире</td>\n",
              "      <td>Дело об отравлении Скрипалей, Парламент Велико...</td>\n",
              "      <td>2018-03-15</td>\n",
              "      <td>британский парламент рассмотреть резолюцию под...</td>\n",
              "    </tr>\n",
              "  </tbody>\n",
              "</table>\n",
              "<p>153517 rows × 9 columns</p>\n",
              "</div>\n",
              "    <div class=\"colab-df-buttons\">\n",
              "\n",
              "  <div class=\"colab-df-container\">\n",
              "    <button class=\"colab-df-convert\" onclick=\"convertToInteractive('df-c87aeefc-f115-4ae7-b41d-5a4d53eaa577')\"\n",
              "            title=\"Convert this dataframe to an interactive table.\"\n",
              "            style=\"display:none;\">\n",
              "\n",
              "  <svg xmlns=\"http://www.w3.org/2000/svg\" height=\"24px\" viewBox=\"0 -960 960 960\">\n",
              "    <path d=\"M120-120v-720h720v720H120Zm60-500h600v-160H180v160Zm220 220h160v-160H400v160Zm0 220h160v-160H400v160ZM180-400h160v-160H180v160Zm440 0h160v-160H620v160ZM180-180h160v-160H180v160Zm440 0h160v-160H620v160Z\"/>\n",
              "  </svg>\n",
              "    </button>\n",
              "\n",
              "  <style>\n",
              "    .colab-df-container {\n",
              "      display:flex;\n",
              "      gap: 12px;\n",
              "    }\n",
              "\n",
              "    .colab-df-convert {\n",
              "      background-color: #E8F0FE;\n",
              "      border: none;\n",
              "      border-radius: 50%;\n",
              "      cursor: pointer;\n",
              "      display: none;\n",
              "      fill: #1967D2;\n",
              "      height: 32px;\n",
              "      padding: 0 0 0 0;\n",
              "      width: 32px;\n",
              "    }\n",
              "\n",
              "    .colab-df-convert:hover {\n",
              "      background-color: #E2EBFA;\n",
              "      box-shadow: 0px 1px 2px rgba(60, 64, 67, 0.3), 0px 1px 3px 1px rgba(60, 64, 67, 0.15);\n",
              "      fill: #174EA6;\n",
              "    }\n",
              "\n",
              "    .colab-df-buttons div {\n",
              "      margin-bottom: 4px;\n",
              "    }\n",
              "\n",
              "    [theme=dark] .colab-df-convert {\n",
              "      background-color: #3B4455;\n",
              "      fill: #D2E3FC;\n",
              "    }\n",
              "\n",
              "    [theme=dark] .colab-df-convert:hover {\n",
              "      background-color: #434B5C;\n",
              "      box-shadow: 0px 1px 3px 1px rgba(0, 0, 0, 0.15);\n",
              "      filter: drop-shadow(0px 1px 2px rgba(0, 0, 0, 0.3));\n",
              "      fill: #FFFFFF;\n",
              "    }\n",
              "  </style>\n",
              "\n",
              "    <script>\n",
              "      const buttonEl =\n",
              "        document.querySelector('#df-c87aeefc-f115-4ae7-b41d-5a4d53eaa577 button.colab-df-convert');\n",
              "      buttonEl.style.display =\n",
              "        google.colab.kernel.accessAllowed ? 'block' : 'none';\n",
              "\n",
              "      async function convertToInteractive(key) {\n",
              "        const element = document.querySelector('#df-c87aeefc-f115-4ae7-b41d-5a4d53eaa577');\n",
              "        const dataTable =\n",
              "          await google.colab.kernel.invokeFunction('convertToInteractive',\n",
              "                                                    [key], {});\n",
              "        if (!dataTable) return;\n",
              "\n",
              "        const docLinkHtml = 'Like what you see? Visit the ' +\n",
              "          '<a target=\"_blank\" href=https://colab.research.google.com/notebooks/data_table.ipynb>data table notebook</a>'\n",
              "          + ' to learn more about interactive tables.';\n",
              "        element.innerHTML = '';\n",
              "        dataTable['output_type'] = 'display_data';\n",
              "        await google.colab.output.renderOutput(dataTable, element);\n",
              "        const docLink = document.createElement('div');\n",
              "        docLink.innerHTML = docLinkHtml;\n",
              "        element.appendChild(docLink);\n",
              "      }\n",
              "    </script>\n",
              "  </div>\n",
              "\n",
              "\n",
              "<div id=\"df-7039c5ab-b1f2-4aaa-956b-bb32d4ecf035\">\n",
              "  <button class=\"colab-df-quickchart\" onclick=\"quickchart('df-7039c5ab-b1f2-4aaa-956b-bb32d4ecf035')\"\n",
              "            title=\"Suggest charts\"\n",
              "            style=\"display:none;\">\n",
              "\n",
              "<svg xmlns=\"http://www.w3.org/2000/svg\" height=\"24px\"viewBox=\"0 0 24 24\"\n",
              "     width=\"24px\">\n",
              "    <g>\n",
              "        <path d=\"M19 3H5c-1.1 0-2 .9-2 2v14c0 1.1.9 2 2 2h14c1.1 0 2-.9 2-2V5c0-1.1-.9-2-2-2zM9 17H7v-7h2v7zm4 0h-2V7h2v10zm4 0h-2v-4h2v4z\"/>\n",
              "    </g>\n",
              "</svg>\n",
              "  </button>\n",
              "\n",
              "<style>\n",
              "  .colab-df-quickchart {\n",
              "      --bg-color: #E8F0FE;\n",
              "      --fill-color: #1967D2;\n",
              "      --hover-bg-color: #E2EBFA;\n",
              "      --hover-fill-color: #174EA6;\n",
              "      --disabled-fill-color: #AAA;\n",
              "      --disabled-bg-color: #DDD;\n",
              "  }\n",
              "\n",
              "  [theme=dark] .colab-df-quickchart {\n",
              "      --bg-color: #3B4455;\n",
              "      --fill-color: #D2E3FC;\n",
              "      --hover-bg-color: #434B5C;\n",
              "      --hover-fill-color: #FFFFFF;\n",
              "      --disabled-bg-color: #3B4455;\n",
              "      --disabled-fill-color: #666;\n",
              "  }\n",
              "\n",
              "  .colab-df-quickchart {\n",
              "    background-color: var(--bg-color);\n",
              "    border: none;\n",
              "    border-radius: 50%;\n",
              "    cursor: pointer;\n",
              "    display: none;\n",
              "    fill: var(--fill-color);\n",
              "    height: 32px;\n",
              "    padding: 0;\n",
              "    width: 32px;\n",
              "  }\n",
              "\n",
              "  .colab-df-quickchart:hover {\n",
              "    background-color: var(--hover-bg-color);\n",
              "    box-shadow: 0 1px 2px rgba(60, 64, 67, 0.3), 0 1px 3px 1px rgba(60, 64, 67, 0.15);\n",
              "    fill: var(--button-hover-fill-color);\n",
              "  }\n",
              "\n",
              "  .colab-df-quickchart-complete:disabled,\n",
              "  .colab-df-quickchart-complete:disabled:hover {\n",
              "    background-color: var(--disabled-bg-color);\n",
              "    fill: var(--disabled-fill-color);\n",
              "    box-shadow: none;\n",
              "  }\n",
              "\n",
              "  .colab-df-spinner {\n",
              "    border: 2px solid var(--fill-color);\n",
              "    border-color: transparent;\n",
              "    border-bottom-color: var(--fill-color);\n",
              "    animation:\n",
              "      spin 1s steps(1) infinite;\n",
              "  }\n",
              "\n",
              "  @keyframes spin {\n",
              "    0% {\n",
              "      border-color: transparent;\n",
              "      border-bottom-color: var(--fill-color);\n",
              "      border-left-color: var(--fill-color);\n",
              "    }\n",
              "    20% {\n",
              "      border-color: transparent;\n",
              "      border-left-color: var(--fill-color);\n",
              "      border-top-color: var(--fill-color);\n",
              "    }\n",
              "    30% {\n",
              "      border-color: transparent;\n",
              "      border-left-color: var(--fill-color);\n",
              "      border-top-color: var(--fill-color);\n",
              "      border-right-color: var(--fill-color);\n",
              "    }\n",
              "    40% {\n",
              "      border-color: transparent;\n",
              "      border-right-color: var(--fill-color);\n",
              "      border-top-color: var(--fill-color);\n",
              "    }\n",
              "    60% {\n",
              "      border-color: transparent;\n",
              "      border-right-color: var(--fill-color);\n",
              "    }\n",
              "    80% {\n",
              "      border-color: transparent;\n",
              "      border-right-color: var(--fill-color);\n",
              "      border-bottom-color: var(--fill-color);\n",
              "    }\n",
              "    90% {\n",
              "      border-color: transparent;\n",
              "      border-bottom-color: var(--fill-color);\n",
              "    }\n",
              "  }\n",
              "</style>\n",
              "\n",
              "  <script>\n",
              "    async function quickchart(key) {\n",
              "      const quickchartButtonEl =\n",
              "        document.querySelector('#' + key + ' button');\n",
              "      quickchartButtonEl.disabled = true;  // To prevent multiple clicks.\n",
              "      quickchartButtonEl.classList.add('colab-df-spinner');\n",
              "      try {\n",
              "        const charts = await google.colab.kernel.invokeFunction(\n",
              "            'suggestCharts', [key], {});\n",
              "      } catch (error) {\n",
              "        console.error('Error during call to suggestCharts:', error);\n",
              "      }\n",
              "      quickchartButtonEl.classList.remove('colab-df-spinner');\n",
              "      quickchartButtonEl.classList.add('colab-df-quickchart-complete');\n",
              "    }\n",
              "    (() => {\n",
              "      let quickchartButtonEl =\n",
              "        document.querySelector('#df-7039c5ab-b1f2-4aaa-956b-bb32d4ecf035 button');\n",
              "      quickchartButtonEl.style.display =\n",
              "        google.colab.kernel.accessAllowed ? 'block' : 'none';\n",
              "    })();\n",
              "  </script>\n",
              "</div>\n",
              "    </div>\n",
              "  </div>\n"
            ],
            "application/vnd.google.colaboratory.intrinsic+json": {
              "type": "dataframe",
              "variable_name": "ria_news"
            }
          },
          "metadata": {},
          "execution_count": 18
        }
      ],
      "source": [
        "ria_news"
      ]
    },
    {
      "cell_type": "markdown",
      "metadata": {
        "id": "WkQvfjwbW4Kz"
      },
      "source": [
        "#Vectorizing"
      ]
    },
    {
      "cell_type": "markdown",
      "metadata": {
        "id": "cRuTqtiqWkiU"
      },
      "source": [
        "##Word2Vec"
      ]
    },
    {
      "cell_type": "code",
      "execution_count": null,
      "metadata": {
        "id": "SaX-kBtSX7wY"
      },
      "outputs": [],
      "source": [
        "from gensim.models import Word2Vec, FastText\n",
        "from sklearn.decomposition import PCA"
      ]
    },
    {
      "cell_type": "code",
      "execution_count": null,
      "metadata": {
        "id": "aQNooMv3XoiN"
      },
      "outputs": [],
      "source": [
        "model_w2v = Word2Vec(sentences=x_train.apply(lambda x: x.split()).tolist(), vector_size=100, window=5, min_count=1, workers=4)\n",
        "\n",
        "def get_sentence_vector_w2v(sentence):\n",
        "    vectors = [model_w2v.wv[word] for word in sentence.split() if word in model_w2v.wv]\n",
        "    if vectors:\n",
        "        return np.mean(vectors, axis=0)\n",
        "    else:\n",
        "        return np.zeros(100)\n",
        "\n",
        "x_train_vectors_w2v = np.array(x_train.apply(get_sentence_vector_w2v).tolist())\n",
        "x_test_vectors_w2v = np.array(x_test.apply(get_sentence_vector_w2v).tolist())"
      ]
    },
    {
      "cell_type": "code",
      "execution_count": null,
      "metadata": {
        "colab": {
          "base_uri": "https://localhost:8080/"
        },
        "id": "IIVOCcmNnS40",
        "outputId": "e0c5a3d2-092a-4998-ad78-2e35478c2daf"
      },
      "outputs": [
        {
          "output_type": "stream",
          "name": "stdout",
          "text": [
            "Word2Vec Training Vectors Shape: (106742, 100)\n",
            "Word2Vec Testing Vectors Shape: (32022, 100)\n"
          ]
        }
      ],
      "source": [
        "print(\"Word2Vec Training Vectors Shape:\", x_train_vectors_w2v.shape)\n",
        "print(\"Word2Vec Testing Vectors Shape:\", x_test_vectors_w2v.shape)"
      ]
    },
    {
      "cell_type": "code",
      "execution_count": null,
      "metadata": {
        "colab": {
          "base_uri": "https://localhost:8080/"
        },
        "id": "WT5Pg2q4pALd",
        "outputId": "31e70418-5770-461c-da9b-f886684175bc"
      },
      "outputs": [
        {
          "output_type": "execute_result",
          "data": {
            "text/plain": [
              "array([[-0.20164225,  0.49629965,  0.26648632, ..., -0.5858782 ,\n",
              "         0.3224001 ,  0.05739506],\n",
              "       [-0.18799703,  0.36633366,  0.22951181, ..., -1.7547724 ,\n",
              "        -0.32348564,  0.2871646 ],\n",
              "       [-0.07673426,  0.54779243,  0.1913425 , ..., -0.5741375 ,\n",
              "         0.0761596 , -0.00857787],\n",
              "       ...,\n",
              "       [-0.22428207,  0.5077945 ,  0.2586402 , ..., -0.7087969 ,\n",
              "         0.18644938,  0.11066359],\n",
              "       [-0.2026139 ,  0.3087913 ,  0.27386826, ..., -0.58759815,\n",
              "        -0.02021147,  0.24261865],\n",
              "       [-0.3886544 ,  0.46985108,  0.18871315, ..., -0.6053004 ,\n",
              "        -0.0596329 ,  0.17968892]], dtype=float32)"
            ]
          },
          "metadata": {},
          "execution_count": 22
        }
      ],
      "source": [
        "x_train_vectors_w2v"
      ]
    },
    {
      "cell_type": "code",
      "execution_count": null,
      "metadata": {
        "colab": {
          "base_uri": "https://localhost:8080/"
        },
        "id": "duETEJsxpBwE",
        "outputId": "df5761ef-c8de-4a99-d057-7b9c278415f3"
      },
      "outputs": [
        {
          "output_type": "execute_result",
          "data": {
            "text/plain": [
              "array([[ 0.04086751,  0.31875613,  0.18713318, ..., -0.83134305,\n",
              "         0.32081071, -0.10378819],\n",
              "       [-0.51478422,  0.8421163 ,  0.26688981, ..., -1.08830726,\n",
              "        -0.09203024,  0.30216387],\n",
              "       [ 0.20778167,  0.39611039,  0.03238657, ..., -0.78749555,\n",
              "         0.2279537 , -0.56233579],\n",
              "       ...,\n",
              "       [-0.24656953,  0.19559847,  0.1667456 , ..., -0.39212593,\n",
              "        -0.2074606 ,  0.21960039],\n",
              "       [-0.38475269,  0.86846572,  0.37132439, ..., -0.82688332,\n",
              "         0.32955235,  0.28722802],\n",
              "       [-0.16244191,  0.44590661,  0.10597439, ..., -0.45653763,\n",
              "        -0.02481518,  0.10523833]])"
            ]
          },
          "metadata": {},
          "execution_count": 23
        }
      ],
      "source": [
        "x_test_vectors_w2v"
      ]
    },
    {
      "cell_type": "code",
      "execution_count": null,
      "metadata": {
        "colab": {
          "base_uri": "https://localhost:8080/"
        },
        "id": "ZO5tBWgdXspb",
        "outputId": "ba3b13db-2187-485c-d2a0-89958debdefc"
      },
      "outputs": [
        {
          "output_type": "stream",
          "name": "stdout",
          "text": [
            "Reduced Word2Vec Training Vectors Shape: (106742, 5)\n",
            "Reduced Word2Vec Testing Vectors Shape: (32022, 5)\n"
          ]
        }
      ],
      "source": [
        "pca = PCA(n_components=5)\n",
        "x_train_vectors_w2v_reduced = pca.fit_transform(x_train_vectors_w2v)\n",
        "x_test_vectors_w2v_reduced = pca.transform(x_test_vectors_w2v)\n",
        "\n",
        "print(\"Reduced Word2Vec Training Vectors Shape:\", x_train_vectors_w2v_reduced.shape)\n",
        "print(\"Reduced Word2Vec Testing Vectors Shape:\", x_test_vectors_w2v_reduced.shape)\n"
      ]
    },
    {
      "cell_type": "code",
      "source": [
        "x_train_vectors_w2v_reduced"
      ],
      "metadata": {
        "colab": {
          "base_uri": "https://localhost:8080/"
        },
        "id": "ycyBXKBj1mcK",
        "outputId": "b70c5c33-804e-4742-f1fc-4764caf9759d"
      },
      "execution_count": null,
      "outputs": [
        {
          "output_type": "execute_result",
          "data": {
            "text/plain": [
              "array([[ 0.7417873 ,  1.3943137 , -0.80504596,  0.4115353 , -0.23291773],\n",
              "       [ 1.3217533 ,  2.877635  ,  2.035489  ,  1.9246274 ,  3.3464675 ],\n",
              "       [ 0.5895918 , -1.5841892 , -0.27115425, -0.19571535,  0.05451707],\n",
              "       ...,\n",
              "       [ 0.46218067,  0.16580874, -0.45100236,  0.25436634, -0.08214305],\n",
              "       [-0.70594156,  0.13001108, -0.7414922 ,  0.38264498,  0.00351775],\n",
              "       [-0.14584847, -1.0061092 , -0.6796423 , -0.30949306, -0.3302059 ]],\n",
              "      dtype=float32)"
            ]
          },
          "metadata": {},
          "execution_count": 25
        }
      ]
    },
    {
      "cell_type": "code",
      "source": [
        "x_test_vectors_w2v_reduced"
      ],
      "metadata": {
        "colab": {
          "base_uri": "https://localhost:8080/"
        },
        "id": "o-vrw7Tv1kNL",
        "outputId": "963696bb-dead-4ef2-ca90-5688b3b86255"
      },
      "execution_count": null,
      "outputs": [
        {
          "output_type": "execute_result",
          "data": {
            "text/plain": [
              "array([[ 1.89670845e+00,  1.33466269e-01,  7.03963488e-02,\n",
              "        -2.16376584e-01,  6.93600397e-01],\n",
              "       [ 4.40332370e-01, -6.45520793e-01,  8.74127594e-01,\n",
              "        -5.58302732e-01, -5.13116672e-01],\n",
              "       [ 2.93934387e+00, -8.70780715e-01,  1.19121924e+00,\n",
              "        -5.23351804e-01,  2.36495292e+00],\n",
              "       ...,\n",
              "       [-1.74033113e+00, -5.32278963e-01, -1.36002903e-01,\n",
              "         1.50965641e-01, -7.00138302e-04],\n",
              "       [ 6.39982384e-01, -3.21584552e-01, -7.17618630e-02,\n",
              "         1.41671980e-01, -2.40868715e-01],\n",
              "       [-1.73970221e-01, -1.06907227e+00, -2.54949821e-01,\n",
              "        -3.20775750e-01, -4.16801982e-02]])"
            ]
          },
          "metadata": {},
          "execution_count": 26
        }
      ]
    },
    {
      "cell_type": "markdown",
      "metadata": {
        "id": "mpfmX-4eWkcr"
      },
      "source": [
        "##CountVectorizer"
      ]
    },
    {
      "cell_type": "code",
      "source": [
        "from sklearn.feature_extraction.text import CountVectorizer"
      ],
      "metadata": {
        "id": "MX6ehAomA19T"
      },
      "execution_count": 15,
      "outputs": []
    },
    {
      "cell_type": "code",
      "execution_count": 16,
      "metadata": {
        "id": "9IC1-JOZOdmQ"
      },
      "outputs": [],
      "source": [
        "cv =  CountVectorizer()\n",
        "\n",
        "X_train_cv = cv.fit_transform(x_train)\n",
        "X_test_cv = cv.transform(x_test)"
      ]
    },
    {
      "cell_type": "markdown",
      "source": [
        "#Logistic Regression"
      ],
      "metadata": {
        "id": "Z_-7TsQVBbot"
      }
    },
    {
      "cell_type": "code",
      "source": [
        "from sklearn import metrics\n",
        "from sklearn.svm import SVC\n",
        "from sklearn.metrics import accuracy_score\n",
        "from sklearn.linear_model import LogisticRegression"
      ],
      "metadata": {
        "id": "90lQxtPFDIhT"
      },
      "execution_count": 17,
      "outputs": []
    },
    {
      "cell_type": "markdown",
      "source": [
        "###Classification with Word2Vec (w/o PCA)"
      ],
      "metadata": {
        "id": "gZhrV9hEgu_6"
      }
    },
    {
      "cell_type": "code",
      "source": [
        "classifier = LogisticRegression(max_iter=10000)"
      ],
      "metadata": {
        "id": "0m_QzOYng3xQ"
      },
      "execution_count": null,
      "outputs": []
    },
    {
      "cell_type": "code",
      "source": [
        "classifier.fit(x_train_vectors_w2v, y_train)\n",
        "\n",
        "y_pred = classifier.predict(x_test_vectors_w2v)"
      ],
      "metadata": {
        "id": "J99yJRVJg4na"
      },
      "execution_count": null,
      "outputs": []
    },
    {
      "cell_type": "code",
      "source": [
        "accuracy = accuracy_score(y_test, y_pred)\n",
        "print(\"Accuracy:\", accuracy)"
      ],
      "metadata": {
        "colab": {
          "base_uri": "https://localhost:8080/"
        },
        "id": "AabB8JMYg6nv",
        "outputId": "482f19e8-3e00-494b-8d74-1366bf3adde5"
      },
      "execution_count": null,
      "outputs": [
        {
          "output_type": "stream",
          "name": "stdout",
          "text": [
            "Accuracy: 0.6522390856286303\n"
          ]
        }
      ]
    },
    {
      "cell_type": "code",
      "source": [
        "print(metrics.confusion_matrix(y_test, y_pred))\n",
        "print(metrics.classification_report(y_test, y_pred))\n",
        "print(metrics.accuracy_score(y_test, y_pred))"
      ],
      "metadata": {
        "colab": {
          "base_uri": "https://localhost:8080/"
        },
        "id": "PGQfJ0BNFodx",
        "outputId": "97048c45-ab86-450a-cd51-5a334ae0c945"
      },
      "execution_count": null,
      "outputs": [
        {
          "output_type": "stream",
          "name": "stdout",
          "text": [
            "[[8953   13   33  319  196  584    2  219    7  276]\n",
            " [ 247   39    9  271   14   45    0  160    2   36]\n",
            " [ 296    2  299  189    3   48    0   59    2   66]\n",
            " [1095   19   24 1479  113  357    1  228    5  201]\n",
            " [ 832    2    4  196  510   25    0   35    1   72]\n",
            " [ 722    2    8  218    6 2692    0   50    2   36]\n",
            " [ 312    4    3  100    5   14   65   23    0   17]\n",
            " [ 361   11   17  133   15   46    0 5963    4   56]\n",
            " [ 262    6   24  152    0   43    1   94   32   55]\n",
            " [1142   10   16  502   73   62    0  216    5  854]]\n",
            "              precision    recall  f1-score   support\n",
            "\n",
            "      В мире       0.63      0.84      0.72     10602\n",
            "    Культура       0.36      0.05      0.08       823\n",
            "       Наука       0.68      0.31      0.43       964\n",
            "    Общество       0.42      0.42      0.42      3522\n",
            "    Политика       0.55      0.30      0.39      1677\n",
            "Происшествия       0.69      0.72      0.70      3736\n",
            "     Религия       0.94      0.12      0.21       543\n",
            "       Спорт       0.85      0.90      0.87      6606\n",
            "      Туризм       0.53      0.05      0.09       669\n",
            "   Экономика       0.51      0.30      0.38      2880\n",
            "\n",
            "    accuracy                           0.65     32022\n",
            "   macro avg       0.62      0.40      0.43     32022\n",
            "weighted avg       0.64      0.65      0.62     32022\n",
            "\n",
            "0.6522390856286303\n"
          ]
        }
      ]
    },
    {
      "cell_type": "markdown",
      "source": [
        "###Classification with Word2Vec (with PCA)"
      ],
      "metadata": {
        "id": "an7pLxAAEieD"
      }
    },
    {
      "cell_type": "code",
      "source": [
        "classifier = LogisticRegression(max_iter=10000)"
      ],
      "metadata": {
        "id": "s29ajAAxE0-i"
      },
      "execution_count": null,
      "outputs": []
    },
    {
      "cell_type": "code",
      "source": [
        "classifier.fit(x_train_vectors_w2v_reduced, y_train)\n",
        "\n",
        "y_pred = classifier.predict(x_test_vectors_w2v_reduced)"
      ],
      "metadata": {
        "id": "Njef2EHoE0-j"
      },
      "execution_count": null,
      "outputs": []
    },
    {
      "cell_type": "code",
      "source": [
        "accuracy = accuracy_score(y_test, y_pred)\n",
        "print(\"Accuracy:\", accuracy)"
      ],
      "metadata": {
        "colab": {
          "base_uri": "https://localhost:8080/"
        },
        "outputId": "99d93b7c-88c3-436c-f808-d992f772f7ee",
        "id": "jkcObuovE0-j"
      },
      "execution_count": null,
      "outputs": [
        {
          "output_type": "stream",
          "name": "stdout",
          "text": [
            "Accuracy: 0.5682343388920117\n"
          ]
        }
      ]
    },
    {
      "cell_type": "code",
      "source": [
        "print(metrics.confusion_matrix(y_test, y_pred))\n",
        "print(metrics.classification_report(y_test, y_pred))\n",
        "print(metrics.accuracy_score(y_test, y_pred))"
      ],
      "metadata": {
        "colab": {
          "base_uri": "https://localhost:8080/"
        },
        "id": "KqGnCT-5F0Fq",
        "outputId": "bea107ce-1b29-49e8-9a16-9e61b078496e"
      },
      "execution_count": null,
      "outputs": [
        {
          "output_type": "stream",
          "name": "stdout",
          "text": [
            "[[8796    0    0  254  281  946    0  291    0   34]\n",
            " [ 338    0    0  169   12   78    0  222    0    4]\n",
            " [ 688    0    0  119    2   67    0   86    0    2]\n",
            " [1985    0    0  560  128  540    0  296    0   13]\n",
            " [1068    0    0  221  296   29    0   43    0   20]\n",
            " [ 958    0    0  139    1 2577    0   61    0    0]\n",
            " [ 338    0    0  121    5   35    0   40    0    4]\n",
            " [ 455    0    0   86   12   76    0 5958    0   19]\n",
            " [ 412    0    0   67    2   65    0  121    0    2]\n",
            " [2017    0    0  409   83   95    0  267    0    9]]\n"
          ]
        },
        {
          "output_type": "stream",
          "name": "stderr",
          "text": [
            "/usr/local/lib/python3.10/dist-packages/sklearn/metrics/_classification.py:1344: UndefinedMetricWarning: Precision and F-score are ill-defined and being set to 0.0 in labels with no predicted samples. Use `zero_division` parameter to control this behavior.\n",
            "  _warn_prf(average, modifier, msg_start, len(result))\n",
            "/usr/local/lib/python3.10/dist-packages/sklearn/metrics/_classification.py:1344: UndefinedMetricWarning: Precision and F-score are ill-defined and being set to 0.0 in labels with no predicted samples. Use `zero_division` parameter to control this behavior.\n",
            "  _warn_prf(average, modifier, msg_start, len(result))\n",
            "/usr/local/lib/python3.10/dist-packages/sklearn/metrics/_classification.py:1344: UndefinedMetricWarning: Precision and F-score are ill-defined and being set to 0.0 in labels with no predicted samples. Use `zero_division` parameter to control this behavior.\n",
            "  _warn_prf(average, modifier, msg_start, len(result))\n"
          ]
        },
        {
          "output_type": "stream",
          "name": "stdout",
          "text": [
            "              precision    recall  f1-score   support\n",
            "\n",
            "      В мире       0.52      0.83      0.64     10602\n",
            "    Культура       0.00      0.00      0.00       823\n",
            "       Наука       0.00      0.00      0.00       964\n",
            "    Общество       0.26      0.16      0.20      3522\n",
            "    Политика       0.36      0.18      0.24      1677\n",
            "Происшествия       0.57      0.69      0.63      3736\n",
            "     Религия       0.00      0.00      0.00       543\n",
            "       Спорт       0.81      0.90      0.85      6606\n",
            "      Туризм       0.00      0.00      0.00       669\n",
            "   Экономика       0.08      0.00      0.01      2880\n",
            "\n",
            "    accuracy                           0.57     32022\n",
            "   macro avg       0.26      0.28      0.26     32022\n",
            "weighted avg       0.46      0.57      0.49     32022\n",
            "\n",
            "0.5682343388920117\n"
          ]
        }
      ]
    },
    {
      "cell_type": "markdown",
      "source": [
        "###Classification with CountVectorizer (w/o PCA)"
      ],
      "metadata": {
        "id": "4a-zUL-eFRHv"
      }
    },
    {
      "cell_type": "code",
      "source": [
        "classifier = LogisticRegression(max_iter=10000, random_state=77)"
      ],
      "metadata": {
        "id": "LBx_7coNGCGY"
      },
      "execution_count": null,
      "outputs": []
    },
    {
      "cell_type": "code",
      "source": [
        "classifier.fit(X_train_cv, y_train)\n",
        "\n",
        "y_pred = classifier.predict(X_test_cv)"
      ],
      "metadata": {
        "id": "22tT-717GD6f"
      },
      "execution_count": null,
      "outputs": []
    },
    {
      "cell_type": "code",
      "source": [
        "accuracy = accuracy_score(y_test, y_pred)\n",
        "print(\"Accuracy:\", accuracy)"
      ],
      "metadata": {
        "colab": {
          "base_uri": "https://localhost:8080/"
        },
        "id": "sM9kGvoiGHIW",
        "outputId": "9a81b712-69e1-4b47-d93f-b542be20a8fd"
      },
      "execution_count": null,
      "outputs": [
        {
          "output_type": "stream",
          "name": "stdout",
          "text": [
            "Accuracy: 0.8451064892886141\n"
          ]
        }
      ]
    },
    {
      "cell_type": "code",
      "source": [
        "print(metrics.confusion_matrix(y_test, y_pred))\n",
        "print(metrics.classification_report(y_test, y_pred))\n",
        "print(metrics.accuracy_score(y_test, y_pred))"
      ],
      "metadata": {
        "colab": {
          "base_uri": "https://localhost:8080/"
        },
        "id": "CIjtVNFmGIHu",
        "outputId": "2899e094-0d03-426d-d502-0057c2639528"
      },
      "execution_count": null,
      "outputs": [
        {
          "output_type": "stream",
          "name": "stdout",
          "text": [
            "[[9836   25   14  129  209  104   14   37   31  203]\n",
            " [  96  539    4  120    4   18    3   23    1   15]\n",
            " [  81    3  747   70    8   11    0   12    3   29]\n",
            " [ 255   53   14 2492  130  277    3   78   36  184]\n",
            " [ 407    5    2  188  986   18    1    6    2   62]\n",
            " [ 168    8    7  233    9 3263    4   12    7   25]\n",
            " [  88   11    2   34    3   10  381    7    3    4]\n",
            " [ 114    7    1   79    6   25    0 6354    3   17]\n",
            " [ 126   10   10   82    2   17    0   14  379   29]\n",
            " [ 361    3    6  303   53   26    0   29   14 2085]]\n",
            "              precision    recall  f1-score   support\n",
            "\n",
            "      В мире       0.85      0.93      0.89     10602\n",
            "    Культура       0.81      0.65      0.72       823\n",
            "       Наука       0.93      0.77      0.84       964\n",
            "    Общество       0.67      0.71      0.69      3522\n",
            "    Политика       0.70      0.59      0.64      1677\n",
            "Происшествия       0.87      0.87      0.87      3736\n",
            "     Религия       0.94      0.70      0.80       543\n",
            "       Спорт       0.97      0.96      0.96      6606\n",
            "      Туризм       0.79      0.57      0.66       669\n",
            "   Экономика       0.79      0.72      0.75      2880\n",
            "\n",
            "    accuracy                           0.85     32022\n",
            "   macro avg       0.83      0.75      0.78     32022\n",
            "weighted avg       0.84      0.85      0.84     32022\n",
            "\n",
            "0.8451064892886141\n"
          ]
        }
      ]
    },
    {
      "cell_type": "markdown",
      "source": [
        "**Word2Vec без PCA**\n",
        "\n",
        "Модель показала среднюю точность (0.65), с лучшими результатами для \"Спорт\" и \"В мире\".\n",
        "\n",
        "Чуть ниже результаты для \"Культура\" и \"Религия\"\n",
        "\n",
        "**Word2Vec с PCA**\n",
        "\n",
        "Понижение размерности привело к ухудшению результатов (0.57), особенно для категорий с малым количеством данных, таких как \"Культура\", \"Наука\", \"Религия\" и \"Туризм\".\n",
        "PCA может терять важную информацию, особенно если исходные векторы уже имеют низкую размерность.\n",
        "\n",
        "**CountVectorizer без PCA**\n",
        "\n",
        "Модель показала наилучшие результаты (0.85) среди всех методов, с высокими показателями для всех категорий.\n",
        "Этот метод лучше справляется с данной задачей, возможно, из-за большей сохраненной информации в векторах."
      ],
      "metadata": {
        "id": "xXpw3fiiJ1tf"
      }
    },
    {
      "cell_type": "markdown",
      "source": [
        "#Random Forest"
      ],
      "metadata": {
        "id": "mKDfCjdALs15"
      }
    },
    {
      "cell_type": "code",
      "source": [
        "from sklearn.ensemble import RandomForestClassifier\n",
        "from sklearn.metrics import accuracy_score, classification_report, confusion_matrix"
      ],
      "metadata": {
        "id": "KfUAvv_mMjE3"
      },
      "execution_count": null,
      "outputs": []
    },
    {
      "cell_type": "markdown",
      "source": [
        "###Classification with Word2Vec (w/o PCA)"
      ],
      "metadata": {
        "id": "o5MsCFzqMbeR"
      }
    },
    {
      "cell_type": "code",
      "source": [
        "rf_w2v = RandomForestClassifier(n_estimators=100, random_state=77)\n",
        "rf_w2v.fit(x_train_vectors_w2v, y_train)\n",
        "y_pred_w2v = rf_w2v.predict(x_test_vectors_w2v)"
      ],
      "metadata": {
        "id": "aqEsUCpiMkRy"
      },
      "execution_count": null,
      "outputs": []
    },
    {
      "cell_type": "code",
      "source": [
        "accuracy_w2v = accuracy_score(y_test, y_pred_w2v)\n",
        "classification_report_w2v = classification_report(y_test, y_pred_w2v)\n",
        "confusion_matrix_w2v = confusion_matrix(y_test, y_pred_w2v)"
      ],
      "metadata": {
        "id": "WPO9WOz2PC16"
      },
      "execution_count": null,
      "outputs": []
    },
    {
      "cell_type": "code",
      "source": [
        "print(\"Random Forest with Word2Vec without PCA Accuracy:\", accuracy_w2v)\n",
        "print(\"Classification Report for Random Forest with Word2Vec without PCA\")\n",
        "print(classification_report_w2v)\n",
        "print(\"Confusion Matrix for Random Forest with Word2Vec without PCA\")\n",
        "print(confusion_matrix_w2v)"
      ],
      "metadata": {
        "colab": {
          "base_uri": "https://localhost:8080/"
        },
        "id": "EBWGVZSOPKo8",
        "outputId": "3023009f-f8a3-4c63-a307-f3a5479083d3"
      },
      "execution_count": null,
      "outputs": [
        {
          "output_type": "stream",
          "name": "stdout",
          "text": [
            "Random Forest with Word2Vec without PCA Accuracy: 0.6608269314846044\n",
            "Classification Report for Random Forest with Word2Vec without PCA\n",
            "              precision    recall  f1-score   support\n",
            "\n",
            "      В мире       0.64      0.85      0.73     10602\n",
            "    Культура       0.37      0.19      0.25       823\n",
            "       Наука       0.68      0.32      0.44       964\n",
            "    Общество       0.43      0.40      0.41      3522\n",
            "    Политика       0.57      0.33      0.41      1677\n",
            "Происшествия       0.71      0.73      0.72      3736\n",
            "     Религия       0.90      0.16      0.27       543\n",
            "       Спорт       0.87      0.90      0.88      6606\n",
            "      Туризм       0.40      0.10      0.15       669\n",
            "   Экономика       0.48      0.30      0.37      2880\n",
            "\n",
            "    accuracy                           0.66     32022\n",
            "   macro avg       0.60      0.43      0.46     32022\n",
            "weighted avg       0.65      0.66      0.64     32022\n",
            "\n",
            "Confusion Matrix for Random Forest with Word2Vec without PCA\n",
            "[[9053   54   24  331  172  523    2  185   21  237]\n",
            " [ 211  154   13  202   15   38    0  126    9   55]\n",
            " [ 251   27  310  177    9   42    0   56    9   83]\n",
            " [1010   80   32 1415  118  338    2  203   26  298]\n",
            " [ 833    3    5  156  547   18    0   34    2   79]\n",
            " [ 667   12   20  246    6 2715    1   29    2   38]\n",
            " [ 294   12    2   73    7   20   88   25    3   19]\n",
            " [ 347   27    9  113   19   61    2 5961    6   61]\n",
            " [ 273   12   18  138    2   35    0   72   64   55]\n",
            " [1153   37   22  464   72   61    3  195   19  854]]\n"
          ]
        }
      ]
    },
    {
      "cell_type": "markdown",
      "source": [
        "###Classification with Word2Vec (with PCA)"
      ],
      "metadata": {
        "id": "c585VHk1Mc9a"
      }
    },
    {
      "cell_type": "code",
      "source": [
        "rf_w2v_pca = RandomForestClassifier(n_estimators=100, random_state=77)\n",
        "rf_w2v_pca.fit(x_train_vectors_w2v_reduced, y_train)\n",
        "y_pred_w2v_pca = rf_w2v_pca.predict(x_test_vectors_w2v_reduced)"
      ],
      "metadata": {
        "id": "xpjfr5WHMugK"
      },
      "execution_count": null,
      "outputs": []
    },
    {
      "cell_type": "code",
      "source": [
        "accuracy_w2v_pca = accuracy_score(y_test, y_pred_w2v_pca)\n",
        "classification_report_w2v_pca = classification_report(y_test, y_pred_w2v_pca)\n",
        "confusion_matrix_w2v_pca = confusion_matrix(y_test, y_pred_w2v_pca)"
      ],
      "metadata": {
        "id": "DLC1hhJUPhkO"
      },
      "execution_count": null,
      "outputs": []
    },
    {
      "cell_type": "code",
      "source": [
        "print(\"Random Forest with Word2Vec with PCA Accuracy:\", accuracy_w2v_pca)\n",
        "print(\"Classification Report for Random Forest with Word2Vec with PCA\")\n",
        "print(classification_report_w2v_pca)\n",
        "print(\"Confusion Matrix for Random Forest with Word2Vec with PCA\")\n",
        "print(confusion_matrix_w2v_pca)"
      ],
      "metadata": {
        "colab": {
          "base_uri": "https://localhost:8080/"
        },
        "id": "L4Y7-WTwMv2x",
        "outputId": "6f2a04ae-84d6-48f5-df12-0b6bbdd0f516"
      },
      "execution_count": null,
      "outputs": [
        {
          "output_type": "stream",
          "name": "stdout",
          "text": [
            "Random Forest with Word2Vec with PCA Accuracy: 0.5993379551558303\n",
            "Classification Report for Random Forest with Word2Vec with PCA\n",
            "              precision    recall  f1-score   support\n",
            "\n",
            "      В мире       0.59      0.81      0.68     10602\n",
            "    Культура       0.27      0.12      0.17       823\n",
            "       Наука       0.31      0.15      0.20       964\n",
            "    Общество       0.34      0.29      0.31      3522\n",
            "    Политика       0.43      0.25      0.31      1677\n",
            "Происшествия       0.63      0.67      0.65      3736\n",
            "     Религия       0.75      0.13      0.22       543\n",
            "       Спорт       0.85      0.89      0.87      6606\n",
            "      Туризм       0.24      0.05      0.08       669\n",
            "   Экономика       0.30      0.15      0.20      2880\n",
            "\n",
            "    accuracy                           0.60     32022\n",
            "   macro avg       0.47      0.35      0.37     32022\n",
            "weighted avg       0.56      0.60      0.57     32022\n",
            "\n",
            "Confusion Matrix for Random Forest with Word2Vec with PCA\n",
            "[[8590   52   78  437  233  671    4  225   16  296]\n",
            " [ 243   99   12  187   17   57    3  137    7   61]\n",
            " [ 386   25  141  191   12   55    0   57   15   82]\n",
            " [1258   84   88 1024  124  428    4  212   23  277]\n",
            " [ 874    4   15  201  416   25    3   43    5   91]\n",
            " [ 841   26   33  245   12 2502    0   26   13   38]\n",
            " [ 295   12    5   67   12   23   71   24    0   34]\n",
            " [ 374   21   13  110   17   84    2 5881   10   94]\n",
            " [ 300   12   18  106   10   58    3   88   34   40]\n",
            " [1520   30   46  418  114   74    5  223   16  434]]\n"
          ]
        }
      ]
    },
    {
      "cell_type": "markdown",
      "source": [
        "###Classification with CountVectorizer (w/o PCA)"
      ],
      "metadata": {
        "id": "TTroePgRYrwF"
      }
    },
    {
      "cell_type": "code",
      "source": [
        "rf = RandomForestClassifier(n_estimators=100, random_state=77)\n",
        "rf.fit(X_train_cv, y_train)\n",
        "y_pred = rf.predict(X_test_cv)"
      ],
      "metadata": {
        "id": "zzr4UJUTYrRf"
      },
      "execution_count": null,
      "outputs": []
    },
    {
      "cell_type": "code",
      "source": [
        "accuracy = accuracy_score(y_test, y_pred)\n",
        "print(\"Accuracy:\", accuracy)"
      ],
      "metadata": {
        "id": "ysf8e-MWZgBN",
        "outputId": "df9208a9-3113-40bd-b342-4cca95508099",
        "colab": {
          "base_uri": "https://localhost:8080/"
        }
      },
      "execution_count": null,
      "outputs": [
        {
          "output_type": "stream",
          "name": "stdout",
          "text": [
            "Accuracy: 0.7715945287614765\n"
          ]
        }
      ]
    },
    {
      "cell_type": "code",
      "source": [
        "print(metrics.confusion_matrix(y_test, y_pred))\n",
        "print(metrics.classification_report(y_test, y_pred))\n",
        "print(metrics.accuracy_score(y_test, y_pred))"
      ],
      "metadata": {
        "id": "mQB5v4FAZk2P",
        "outputId": "815980ef-277c-4262-bf76-1985d811f271",
        "colab": {
          "base_uri": "https://localhost:8080/"
        }
      },
      "execution_count": null,
      "outputs": [
        {
          "output_type": "stream",
          "name": "stdout",
          "text": [
            "[[9850   27   21  136   91  272   10   59   16  120]\n",
            " [ 217  403    6   96   11   42    2   26    7   13]\n",
            " [ 178    4  661   55    6   20    0   12    6   22]\n",
            " [ 667   58   23 1834  140  450    6  116   21  207]\n",
            " [ 633    4    1  178  738   46    1   22    2   52]\n",
            " [ 457   18    8  188   17 2994    6    7    7   34]\n",
            " [ 145    8    0   45    2   13  316   10    0    4]\n",
            " [ 330    6    1   59   10   60    0 6121    3   16]\n",
            " [ 215   13   10   76    3   25    0   26  271   30]\n",
            " [ 840    3   13  301   75   82    1   38    7 1520]]\n",
            "              precision    recall  f1-score   support\n",
            "\n",
            "      В мире       0.73      0.93      0.82     10602\n",
            "    Культура       0.74      0.49      0.59       823\n",
            "       Наука       0.89      0.69      0.77       964\n",
            "    Общество       0.62      0.52      0.57      3522\n",
            "    Политика       0.68      0.44      0.53      1677\n",
            "Происшествия       0.75      0.80      0.77      3736\n",
            "     Религия       0.92      0.58      0.71       543\n",
            "       Спорт       0.95      0.93      0.94      6606\n",
            "      Туризм       0.80      0.41      0.54       669\n",
            "   Экономика       0.75      0.53      0.62      2880\n",
            "\n",
            "    accuracy                           0.77     32022\n",
            "   macro avg       0.78      0.63      0.69     32022\n",
            "weighted avg       0.77      0.77      0.76     32022\n",
            "\n",
            "0.7715945287614765\n"
          ]
        }
      ]
    },
    {
      "cell_type": "markdown",
      "source": [
        "**CountVectorizer без PCA**\n",
        "\n",
        "Модель показала наилучшие результаты (0.77) среди всех методов, с высокими показателями для всех категорий.\n",
        "Этот метод CountVectorizer лучше справляется с данной задачей\n",
        "\n"
      ],
      "metadata": {
        "id": "O7MGFAcnjZiP"
      }
    },
    {
      "cell_type": "markdown",
      "source": [
        "**Random Forest с Word2Vec без PCA**\n",
        "\n",
        "Модель достигла точности около 66%, что является приемлемым результатом. Однако, оценки precision, recall и f1-score варьируются в зависимости от категории:\n",
        "\n",
        "\n",
        "*   Наибольшая точность и полнота достигнуты для категорий \"Спорт\", \"Происшествия\" и \"В мире\".\n",
        "\n",
        "*   Низкая точность и полнота наблюдаются для категорий \"Культура\", \"Религия\" и \"Туризм\". Это может указывать на то, что векторизация Word2Vec без PCA может быть недостаточно информативной для этих категорий из-за недостаточного количества данных или сложности текста в этих категориях."
      ],
      "metadata": {
        "id": "CI_e0MrpUrJC"
      }
    },
    {
      "cell_type": "markdown",
      "source": [
        "**Random Forest с Word2Vec с PCA**\n",
        "\n",
        "После применения PCA точность модели уменьшилась до около 59%. Это может быть связано с тем, что PCA может удалять важные признаки для классификации, особенно если исходные векторы уже имеют низкую размерность.\n",
        "\n",
        "*   Оценки precision, recall и f1-score также снизились\n",
        "\n",
        "*  Модель показала наилучшие результаты для категорий \"Спорт\", \"В мире\" и \"Происшествия\", но все еще имеет низкую точность для категорий \"Культура\", \"Религия\" и \"Туризм\"."
      ],
      "metadata": {
        "id": "HX5R-kcXU6Q6"
      }
    },
    {
      "cell_type": "markdown",
      "source": [
        "**Logistic Regression (с CountVectorizer) показала наулучшее качество. Подберем гиперпараметры, чтобы улучшить этот результат**"
      ],
      "metadata": {
        "id": "c6D1WMFLjkG-"
      }
    },
    {
      "cell_type": "markdown",
      "source": [
        "# **Гиперпараметры**"
      ],
      "metadata": {
        "id": "8p7UUwY8j-hp"
      }
    },
    {
      "cell_type": "code",
      "source": [
        "from sklearn.model_selection import GridSearchCV"
      ],
      "metadata": {
        "id": "HYb44cOJk4fp"
      },
      "execution_count": null,
      "outputs": []
    },
    {
      "cell_type": "code",
      "source": [
        "X_val_cv = cv.transform(x_val)"
      ],
      "metadata": {
        "id": "6DhzQzrilkVV"
      },
      "execution_count": null,
      "outputs": []
    },
    {
      "cell_type": "code",
      "source": [
        "params = {\n",
        "    \"penalty\" : ('l1', 'l2'),\n",
        "    \"solver\": (\"lbfgs\", \"liblinear\", \"saga\"),\n",
        "    #\"C\" : np.logspace(-4, 4, 20)\n",
        "}"
      ],
      "metadata": {
        "id": "niWmGveblO4S"
      },
      "execution_count": null,
      "outputs": []
    },
    {
      "cell_type": "code",
      "source": [
        "model = LogisticRegression(max_iter=10000, random_state=77)\n",
        "clf = GridSearchCV(model, params, cv=3, scoring='accuracy')\n",
        "best_clf = clf.fit(X_val_cv,y_val)\n",
        "best_clf.best_estimator_\n",
        "print(f\"Best: score = {best_clf.best_score_}, parametrs = {best_clf.best_params_}\")"
      ],
      "metadata": {
        "id": "RkTUbzgelUjz",
        "outputId": "666b1e99-ce60-49ed-e591-fa2a1e32f429",
        "colab": {
          "base_uri": "https://localhost:8080/"
        }
      },
      "execution_count": null,
      "outputs": [
        {
          "output_type": "stream",
          "name": "stderr",
          "text": [
            "/usr/local/lib/python3.10/dist-packages/sklearn/model_selection/_validation.py:378: FitFailedWarning: \n",
            "3 fits failed out of a total of 18.\n",
            "The score on these train-test partitions for these parameters will be set to nan.\n",
            "If these failures are not expected, you can try to debug them by setting error_score='raise'.\n",
            "\n",
            "Below are more details about the failures:\n",
            "--------------------------------------------------------------------------------\n",
            "3 fits failed with the following error:\n",
            "Traceback (most recent call last):\n",
            "  File \"/usr/local/lib/python3.10/dist-packages/sklearn/model_selection/_validation.py\", line 686, in _fit_and_score\n",
            "    estimator.fit(X_train, y_train, **fit_params)\n",
            "  File \"/usr/local/lib/python3.10/dist-packages/sklearn/linear_model/_logistic.py\", line 1162, in fit\n",
            "    solver = _check_solver(self.solver, self.penalty, self.dual)\n",
            "  File \"/usr/local/lib/python3.10/dist-packages/sklearn/linear_model/_logistic.py\", line 54, in _check_solver\n",
            "    raise ValueError(\n",
            "ValueError: Solver lbfgs supports only 'l2' or 'none' penalties, got l1 penalty.\n",
            "\n",
            "  warnings.warn(some_fits_failed_message, FitFailedWarning)\n",
            "/usr/local/lib/python3.10/dist-packages/sklearn/model_selection/_search.py:952: UserWarning: One or more of the test scores are non-finite: [       nan 0.70965392 0.7073224  0.73413479 0.73544627 0.73464481]\n",
            "  warnings.warn(\n"
          ]
        },
        {
          "output_type": "stream",
          "name": "stdout",
          "text": [
            "Best: score = 0.7354462659380693, parametrs = {'penalty': 'l2', 'solver': 'liblinear'}\n"
          ]
        }
      ]
    },
    {
      "cell_type": "markdown",
      "source": [
        "# Модель с лучшими гиперпараметрами"
      ],
      "metadata": {
        "id": "UXTUQee9BJcz"
      }
    },
    {
      "cell_type": "code",
      "source": [
        "model = LogisticRegression(max_iter=10000, random_state=77, penalty='l2', solver='liblinear')"
      ],
      "metadata": {
        "id": "56nXgKLIBQZh"
      },
      "execution_count": 18,
      "outputs": []
    },
    {
      "cell_type": "code",
      "source": [
        "model.fit(X_train_cv, y_train)\n",
        "y_pred = model.predict(X_test_cv)\n",
        "accuracy = accuracy_score(y_test, y_pred)\n",
        "print(\"Accuracy:\", accuracy)\n",
        "\n",
        "print(metrics.confusion_matrix(y_test, y_pred))\n",
        "print(metrics.classification_report(y_test, y_pred))"
      ],
      "metadata": {
        "id": "GsWh5THqBSbK",
        "outputId": "85f22dbd-afb3-466e-c67d-cd6c8f70c23d",
        "colab": {
          "base_uri": "https://localhost:8080/"
        }
      },
      "execution_count": 19,
      "outputs": [
        {
          "output_type": "stream",
          "name": "stdout",
          "text": [
            "Accuracy: 0.8480731996752233\n",
            "[[9941   24   14  107  158  101   13   39   26  179]\n",
            " [ 109  537    3  110    3   19    3   23    2   14]\n",
            " [  88    3  750   67    6   11    0    9    3   27]\n",
            " [ 279   49   17 2465  118  298    3   86   28  179]\n",
            " [ 426    5    3  176  980   16    1    9    2   59]\n",
            " [ 181    7    5  202   13 3283    5    9    6   25]\n",
            " [  98   10    1   41    3    9  370    7    1    3]\n",
            " [ 106    6    1   63    7   23    0 6384    2   14]\n",
            " [ 136   10   10   83    2   16    0   16  366   30]\n",
            " [ 377    3    5  287   54   29    0   32   12 2081]]\n",
            "              precision    recall  f1-score   support\n",
            "\n",
            "      В мире       0.85      0.94      0.89     10602\n",
            "    Культура       0.82      0.65      0.73       823\n",
            "       Наука       0.93      0.78      0.85       964\n",
            "    Общество       0.68      0.70      0.69      3522\n",
            "    Политика       0.73      0.58      0.65      1677\n",
            "Происшествия       0.86      0.88      0.87      3736\n",
            "     Религия       0.94      0.68      0.79       543\n",
            "       Спорт       0.97      0.97      0.97      6606\n",
            "      Туризм       0.82      0.55      0.66       669\n",
            "   Экономика       0.80      0.72      0.76      2880\n",
            "\n",
            "    accuracy                           0.85     32022\n",
            "   macro avg       0.84      0.74      0.78     32022\n",
            "weighted avg       0.85      0.85      0.84     32022\n",
            "\n"
          ]
        }
      ]
    },
    {
      "cell_type": "code",
      "source": [
        "# from sklearn.pipeline import make_pipeline\n",
        "# pipe = make_pipeline(cv, model)\n",
        "\n",
        "# pipe.fit(x, y)\n",
        "\n",
        "# joblib.dump(pipe, 'pipe.joblib')"
      ],
      "metadata": {
        "colab": {
          "base_uri": "https://localhost:8080/"
        },
        "id": "CHTG2ulVOUq7",
        "outputId": "5798e499-a845-4e5d-8e87-9b2b4e75d336"
      },
      "execution_count": 22,
      "outputs": [
        {
          "output_type": "execute_result",
          "data": {
            "text/plain": [
              "['pipe.joblib']"
            ]
          },
          "metadata": {},
          "execution_count": 22
        }
      ]
    },
    {
      "cell_type": "markdown",
      "source": [
        "# Проверка результата на отложенной выборке"
      ],
      "metadata": {
        "id": "EtTwRjGeBS-j"
      }
    },
    {
      "cell_type": "code",
      "source": [
        "df_oob.head(3)"
      ],
      "metadata": {
        "id": "9SsbvXj2KEiH",
        "outputId": "fd7a0176-205d-444a-f0dd-c21b893970f9",
        "colab": {
          "base_uri": "https://localhost:8080/",
          "height": 143
        }
      },
      "execution_count": null,
      "outputs": [
        {
          "output_type": "execute_result",
          "data": {
            "text/plain": [
              "                        href  \\\n",
              "0  /20181206/1547493936.html   \n",
              "1  /20181206/1547516457.html   \n",
              "2  /20181206/1547520788.html   \n",
              "\n",
              "                                         title_clean category  \n",
              "0  эксперты определили самые бюджетные экзотическ...   Туризм  \n",
              "1  рада приняла закон расширяющий контролируемую ...   В мире  \n",
              "2  россия оказалась родиной древнейших титанозавр...    Наука  "
            ],
            "text/html": [
              "\n",
              "  <div id=\"df-d518cf03-208f-4ca6-9730-2b532112aa89\" class=\"colab-df-container\">\n",
              "    <div>\n",
              "<style scoped>\n",
              "    .dataframe tbody tr th:only-of-type {\n",
              "        vertical-align: middle;\n",
              "    }\n",
              "\n",
              "    .dataframe tbody tr th {\n",
              "        vertical-align: top;\n",
              "    }\n",
              "\n",
              "    .dataframe thead th {\n",
              "        text-align: right;\n",
              "    }\n",
              "</style>\n",
              "<table border=\"1\" class=\"dataframe\">\n",
              "  <thead>\n",
              "    <tr style=\"text-align: right;\">\n",
              "      <th></th>\n",
              "      <th>href</th>\n",
              "      <th>title_clean</th>\n",
              "      <th>category</th>\n",
              "    </tr>\n",
              "  </thead>\n",
              "  <tbody>\n",
              "    <tr>\n",
              "      <th>0</th>\n",
              "      <td>/20181206/1547493936.html</td>\n",
              "      <td>эксперты определили самые бюджетные экзотическ...</td>\n",
              "      <td>Туризм</td>\n",
              "    </tr>\n",
              "    <tr>\n",
              "      <th>1</th>\n",
              "      <td>/20181206/1547516457.html</td>\n",
              "      <td>рада приняла закон расширяющий контролируемую ...</td>\n",
              "      <td>В мире</td>\n",
              "    </tr>\n",
              "    <tr>\n",
              "      <th>2</th>\n",
              "      <td>/20181206/1547520788.html</td>\n",
              "      <td>россия оказалась родиной древнейших титанозавр...</td>\n",
              "      <td>Наука</td>\n",
              "    </tr>\n",
              "  </tbody>\n",
              "</table>\n",
              "</div>\n",
              "    <div class=\"colab-df-buttons\">\n",
              "\n",
              "  <div class=\"colab-df-container\">\n",
              "    <button class=\"colab-df-convert\" onclick=\"convertToInteractive('df-d518cf03-208f-4ca6-9730-2b532112aa89')\"\n",
              "            title=\"Convert this dataframe to an interactive table.\"\n",
              "            style=\"display:none;\">\n",
              "\n",
              "  <svg xmlns=\"http://www.w3.org/2000/svg\" height=\"24px\" viewBox=\"0 -960 960 960\">\n",
              "    <path d=\"M120-120v-720h720v720H120Zm60-500h600v-160H180v160Zm220 220h160v-160H400v160Zm0 220h160v-160H400v160ZM180-400h160v-160H180v160Zm440 0h160v-160H620v160ZM180-180h160v-160H180v160Zm440 0h160v-160H620v160Z\"/>\n",
              "  </svg>\n",
              "    </button>\n",
              "\n",
              "  <style>\n",
              "    .colab-df-container {\n",
              "      display:flex;\n",
              "      gap: 12px;\n",
              "    }\n",
              "\n",
              "    .colab-df-convert {\n",
              "      background-color: #E8F0FE;\n",
              "      border: none;\n",
              "      border-radius: 50%;\n",
              "      cursor: pointer;\n",
              "      display: none;\n",
              "      fill: #1967D2;\n",
              "      height: 32px;\n",
              "      padding: 0 0 0 0;\n",
              "      width: 32px;\n",
              "    }\n",
              "\n",
              "    .colab-df-convert:hover {\n",
              "      background-color: #E2EBFA;\n",
              "      box-shadow: 0px 1px 2px rgba(60, 64, 67, 0.3), 0px 1px 3px 1px rgba(60, 64, 67, 0.15);\n",
              "      fill: #174EA6;\n",
              "    }\n",
              "\n",
              "    .colab-df-buttons div {\n",
              "      margin-bottom: 4px;\n",
              "    }\n",
              "\n",
              "    [theme=dark] .colab-df-convert {\n",
              "      background-color: #3B4455;\n",
              "      fill: #D2E3FC;\n",
              "    }\n",
              "\n",
              "    [theme=dark] .colab-df-convert:hover {\n",
              "      background-color: #434B5C;\n",
              "      box-shadow: 0px 1px 3px 1px rgba(0, 0, 0, 0.15);\n",
              "      filter: drop-shadow(0px 1px 2px rgba(0, 0, 0, 0.3));\n",
              "      fill: #FFFFFF;\n",
              "    }\n",
              "  </style>\n",
              "\n",
              "    <script>\n",
              "      const buttonEl =\n",
              "        document.querySelector('#df-d518cf03-208f-4ca6-9730-2b532112aa89 button.colab-df-convert');\n",
              "      buttonEl.style.display =\n",
              "        google.colab.kernel.accessAllowed ? 'block' : 'none';\n",
              "\n",
              "      async function convertToInteractive(key) {\n",
              "        const element = document.querySelector('#df-d518cf03-208f-4ca6-9730-2b532112aa89');\n",
              "        const dataTable =\n",
              "          await google.colab.kernel.invokeFunction('convertToInteractive',\n",
              "                                                    [key], {});\n",
              "        if (!dataTable) return;\n",
              "\n",
              "        const docLinkHtml = 'Like what you see? Visit the ' +\n",
              "          '<a target=\"_blank\" href=https://colab.research.google.com/notebooks/data_table.ipynb>data table notebook</a>'\n",
              "          + ' to learn more about interactive tables.';\n",
              "        element.innerHTML = '';\n",
              "        dataTable['output_type'] = 'display_data';\n",
              "        await google.colab.output.renderOutput(dataTable, element);\n",
              "        const docLink = document.createElement('div');\n",
              "        docLink.innerHTML = docLinkHtml;\n",
              "        element.appendChild(docLink);\n",
              "      }\n",
              "    </script>\n",
              "  </div>\n",
              "\n",
              "\n",
              "<div id=\"df-c23e6370-1071-43ec-bb51-6d5691c05dcf\">\n",
              "  <button class=\"colab-df-quickchart\" onclick=\"quickchart('df-c23e6370-1071-43ec-bb51-6d5691c05dcf')\"\n",
              "            title=\"Suggest charts\"\n",
              "            style=\"display:none;\">\n",
              "\n",
              "<svg xmlns=\"http://www.w3.org/2000/svg\" height=\"24px\"viewBox=\"0 0 24 24\"\n",
              "     width=\"24px\">\n",
              "    <g>\n",
              "        <path d=\"M19 3H5c-1.1 0-2 .9-2 2v14c0 1.1.9 2 2 2h14c1.1 0 2-.9 2-2V5c0-1.1-.9-2-2-2zM9 17H7v-7h2v7zm4 0h-2V7h2v10zm4 0h-2v-4h2v4z\"/>\n",
              "    </g>\n",
              "</svg>\n",
              "  </button>\n",
              "\n",
              "<style>\n",
              "  .colab-df-quickchart {\n",
              "      --bg-color: #E8F0FE;\n",
              "      --fill-color: #1967D2;\n",
              "      --hover-bg-color: #E2EBFA;\n",
              "      --hover-fill-color: #174EA6;\n",
              "      --disabled-fill-color: #AAA;\n",
              "      --disabled-bg-color: #DDD;\n",
              "  }\n",
              "\n",
              "  [theme=dark] .colab-df-quickchart {\n",
              "      --bg-color: #3B4455;\n",
              "      --fill-color: #D2E3FC;\n",
              "      --hover-bg-color: #434B5C;\n",
              "      --hover-fill-color: #FFFFFF;\n",
              "      --disabled-bg-color: #3B4455;\n",
              "      --disabled-fill-color: #666;\n",
              "  }\n",
              "\n",
              "  .colab-df-quickchart {\n",
              "    background-color: var(--bg-color);\n",
              "    border: none;\n",
              "    border-radius: 50%;\n",
              "    cursor: pointer;\n",
              "    display: none;\n",
              "    fill: var(--fill-color);\n",
              "    height: 32px;\n",
              "    padding: 0;\n",
              "    width: 32px;\n",
              "  }\n",
              "\n",
              "  .colab-df-quickchart:hover {\n",
              "    background-color: var(--hover-bg-color);\n",
              "    box-shadow: 0 1px 2px rgba(60, 64, 67, 0.3), 0 1px 3px 1px rgba(60, 64, 67, 0.15);\n",
              "    fill: var(--button-hover-fill-color);\n",
              "  }\n",
              "\n",
              "  .colab-df-quickchart-complete:disabled,\n",
              "  .colab-df-quickchart-complete:disabled:hover {\n",
              "    background-color: var(--disabled-bg-color);\n",
              "    fill: var(--disabled-fill-color);\n",
              "    box-shadow: none;\n",
              "  }\n",
              "\n",
              "  .colab-df-spinner {\n",
              "    border: 2px solid var(--fill-color);\n",
              "    border-color: transparent;\n",
              "    border-bottom-color: var(--fill-color);\n",
              "    animation:\n",
              "      spin 1s steps(1) infinite;\n",
              "  }\n",
              "\n",
              "  @keyframes spin {\n",
              "    0% {\n",
              "      border-color: transparent;\n",
              "      border-bottom-color: var(--fill-color);\n",
              "      border-left-color: var(--fill-color);\n",
              "    }\n",
              "    20% {\n",
              "      border-color: transparent;\n",
              "      border-left-color: var(--fill-color);\n",
              "      border-top-color: var(--fill-color);\n",
              "    }\n",
              "    30% {\n",
              "      border-color: transparent;\n",
              "      border-left-color: var(--fill-color);\n",
              "      border-top-color: var(--fill-color);\n",
              "      border-right-color: var(--fill-color);\n",
              "    }\n",
              "    40% {\n",
              "      border-color: transparent;\n",
              "      border-right-color: var(--fill-color);\n",
              "      border-top-color: var(--fill-color);\n",
              "    }\n",
              "    60% {\n",
              "      border-color: transparent;\n",
              "      border-right-color: var(--fill-color);\n",
              "    }\n",
              "    80% {\n",
              "      border-color: transparent;\n",
              "      border-right-color: var(--fill-color);\n",
              "      border-bottom-color: var(--fill-color);\n",
              "    }\n",
              "    90% {\n",
              "      border-color: transparent;\n",
              "      border-bottom-color: var(--fill-color);\n",
              "    }\n",
              "  }\n",
              "</style>\n",
              "\n",
              "  <script>\n",
              "    async function quickchart(key) {\n",
              "      const quickchartButtonEl =\n",
              "        document.querySelector('#' + key + ' button');\n",
              "      quickchartButtonEl.disabled = true;  // To prevent multiple clicks.\n",
              "      quickchartButtonEl.classList.add('colab-df-spinner');\n",
              "      try {\n",
              "        const charts = await google.colab.kernel.invokeFunction(\n",
              "            'suggestCharts', [key], {});\n",
              "      } catch (error) {\n",
              "        console.error('Error during call to suggestCharts:', error);\n",
              "      }\n",
              "      quickchartButtonEl.classList.remove('colab-df-spinner');\n",
              "      quickchartButtonEl.classList.add('colab-df-quickchart-complete');\n",
              "    }\n",
              "    (() => {\n",
              "      let quickchartButtonEl =\n",
              "        document.querySelector('#df-c23e6370-1071-43ec-bb51-6d5691c05dcf button');\n",
              "      quickchartButtonEl.style.display =\n",
              "        google.colab.kernel.accessAllowed ? 'block' : 'none';\n",
              "    })();\n",
              "  </script>\n",
              "</div>\n",
              "    </div>\n",
              "  </div>\n"
            ],
            "application/vnd.google.colaboratory.intrinsic+json": {
              "type": "dataframe",
              "variable_name": "df_oob",
              "summary": "{\n  \"name\": \"df_oob\",\n  \"rows\": 1031,\n  \"fields\": [\n    {\n      \"column\": \"href\",\n      \"properties\": {\n        \"dtype\": \"string\",\n        \"num_unique_values\": 1028,\n        \"samples\": [\n          \"/20181217/1548079469.html\",\n          \"/20181219/1548284801.html\",\n          \"/20181216/1548052573.html\"\n        ],\n        \"semantic_type\": \"\",\n        \"description\": \"\"\n      }\n    },\n    {\n      \"column\": \"title_clean\",\n      \"properties\": {\n        \"dtype\": \"string\",\n        \"num_unique_values\": 1029,\n        \"samples\": [\n          \"\\u043f\\u043e\\u0440\\u043e\\u0448\\u0435\\u043d\\u043a\\u043e \\u043d\\u0430\\u0437\\u0432\\u0430\\u043b \\u0432\\u0435\\u0449\\u0438 \\u043a\\u043e\\u0442\\u043e\\u0440\\u044b\\u0445 \\u0431\\u043e\\u0438\\u0442\\u0441\\u044f \\u0440\\u043e\\u0441\\u0441\\u0438\\u044f\",\n          \"101\\u043b\\u0435\\u0442\\u043d\\u0435\\u0439 \\u043c\\u043e\\u0441\\u043a\\u0432\\u0438\\u0447\\u043a\\u0438 \\u0443\\u043a\\u0440\\u0430\\u043b\\u0438 300 \\u0442\\u044b\\u0441\\u044f\\u0447 \\u0440\\u0443\\u0431\\u043b\\u0435\\u0439\",\n          \"\\u0444\\u0438\\u043b\\u044c\\u043c\\u043e\\u043c \\u043d\\u044e\\u0440\\u043d\\u0431\\u0435\\u0440\\u0433\\u0441\\u043a\\u043e\\u043c \\u043f\\u0440\\u043e\\u0446\\u0435\\u0441\\u0441\\u0435 \\u0440\\u0430\\u0431\\u043e\\u0442\\u0430\\u0442\\u044c \\u043a\\u043e\\u043c\\u0430\\u043d\\u0434\\u0430 \\u0441\\u043e\\u0431\\u0438\\u0431\\u043e\\u0440\\u0430\"\n        ],\n        \"semantic_type\": \"\",\n        \"description\": \"\"\n      }\n    },\n    {\n      \"column\": \"category\",\n      \"properties\": {\n        \"dtype\": \"category\",\n        \"num_unique_values\": 10,\n        \"samples\": [\n          \"\\u042d\\u043a\\u043e\\u043d\\u043e\\u043c\\u0438\\u043a\\u0430\",\n          \"\\u0412 \\u043c\\u0438\\u0440\\u0435\",\n          \"\\u041f\\u0440\\u043e\\u0438\\u0441\\u0448\\u0435\\u0441\\u0442\\u0432\\u0438\\u044f\"\n        ],\n        \"semantic_type\": \"\",\n        \"description\": \"\"\n      }\n    }\n  ]\n}"
            }
          },
          "metadata": {},
          "execution_count": 58
        }
      ]
    },
    {
      "cell_type": "code",
      "source": [
        "x = df_oob['title_clean']\n",
        "y = df_oob['category']\n",
        "\n",
        "X_test_vk = cv.transform(x)"
      ],
      "metadata": {
        "id": "0KIXKhlFIpoo"
      },
      "execution_count": null,
      "outputs": []
    },
    {
      "cell_type": "code",
      "source": [
        "y_pred_vk = model.predict(X_test_vk)\n",
        "accuracy = accuracy_score(y, y_pred_vk)\n",
        "print(\"Accuracy:\", accuracy)\n",
        "\n",
        "print(metrics.confusion_matrix(y_test, y_pred))\n",
        "print(metrics.classification_report(y_test, y_pred))"
      ],
      "metadata": {
        "id": "5PirtXGMBY21",
        "outputId": "31f9c956-2783-43d7-87fc-0404da348a91",
        "colab": {
          "base_uri": "https://localhost:8080/"
        }
      },
      "execution_count": null,
      "outputs": [
        {
          "output_type": "stream",
          "name": "stdout",
          "text": [
            "Accuracy: 0.7633365664403492\n",
            "[[9941   24   14  107  158  101   13   39   26  179]\n",
            " [ 109  537    3  110    3   19    3   23    2   14]\n",
            " [  88    3  750   67    6   11    0    9    3   27]\n",
            " [ 279   49   17 2465  118  298    3   86   28  179]\n",
            " [ 426    5    3  176  980   16    1    9    2   59]\n",
            " [ 181    7    5  202   13 3283    5    9    6   25]\n",
            " [  98   10    1   41    3    9  370    7    1    3]\n",
            " [ 106    6    1   63    7   23    0 6384    2   14]\n",
            " [ 136   10   10   83    2   16    0   16  366   30]\n",
            " [ 377    3    5  287   54   29    0   32   12 2081]]\n",
            "              precision    recall  f1-score   support\n",
            "\n",
            "      В мире       0.85      0.94      0.89     10602\n",
            "    Культура       0.82      0.65      0.73       823\n",
            "       Наука       0.93      0.78      0.85       964\n",
            "    Общество       0.68      0.70      0.69      3522\n",
            "    Политика       0.73      0.58      0.65      1677\n",
            "Происшествия       0.86      0.88      0.87      3736\n",
            "     Религия       0.94      0.68      0.79       543\n",
            "       Спорт       0.97      0.97      0.97      6606\n",
            "      Туризм       0.82      0.55      0.66       669\n",
            "   Экономика       0.80      0.72      0.76      2880\n",
            "\n",
            "    accuracy                           0.85     32022\n",
            "   macro avg       0.84      0.74      0.78     32022\n",
            "weighted avg       0.85      0.85      0.84     32022\n",
            "\n"
          ]
        }
      ]
    },
    {
      "cell_type": "markdown",
      "source": [
        "**Качество на отложенной выборке чуть ниже, но все равно достатчно высокое.**"
      ],
      "metadata": {
        "id": "R5YBLK6xSnZ9"
      }
    }
  ]
}